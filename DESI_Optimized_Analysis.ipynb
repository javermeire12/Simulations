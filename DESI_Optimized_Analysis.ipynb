{
  "cells": [
    {
      "cell_type": "markdown",
      "metadata": {
        "id": "view-in-github",
        "colab_type": "text"
      },
      "source": [
        "<a href=\"https://colab.research.google.com/github/javermeire12/Simulations/blob/main/DESI_Optimized_Analysis.ipynb\" target=\"_parent\"><img src=\"https://colab.research.google.com/assets/colab-badge.svg\" alt=\"Open In Colab\"/></a>"
      ]
    },
    {
      "cell_type": "code",
      "execution_count": null,
      "metadata": {
        "colab": {
          "base_uri": "https://localhost:8080/"
        },
        "outputId": "f0a48a15-82bd-45af-c177-dadcc7dfb41e",
        "id": "O7PNdKRnsrZ2"
      },
      "outputs": [
        {
          "output_type": "stream",
          "name": "stdout",
          "text": [
            "🔬 Running optimized cosmic network analysis...\n",
            "============================================================\n",
            "🔬 Running optimized cosmic network analysis...\n",
            "   Building observed (real universe) network...\n",
            "   Building network (radius=20.0)...\n"
          ]
        },
        {
          "output_type": "stream",
          "name": "stderr",
          "text": [
            "   Adding edges: 100%|██████████| 2000/2000 [00:01<00:00, 1924.37it/s]\n"
          ]
        },
        {
          "output_type": "stream",
          "name": "stdout",
          "text": [
            "   ✅ Network built: 2000 nodes, 115085 edges\n",
            "   Observed network: 2000 nodes, 115085 edges\n",
            "   Testing against 50 random networks...\n"
          ]
        },
        {
          "output_type": "stream",
          "name": "stderr",
          "text": [
            "\r   Random networks:   0%|          | 0/50 [00:00<?, ?it/s]"
          ]
        },
        {
          "output_type": "stream",
          "name": "stdout",
          "text": [
            "   Building network (radius=20.0)...\n"
          ]
        },
        {
          "output_type": "stream",
          "name": "stderr",
          "text": [
            "\n",
            "   Adding edges:   0%|          | 0/2000 [00:00<?, ?it/s]\u001b[A\n",
            "   Adding edges:  12%|█▏        | 245/2000 [00:00<00:00, 2444.26it/s]\u001b[A\n",
            "   Adding edges:  27%|██▋       | 534/2000 [00:00<00:00, 2705.28it/s]\u001b[A\n",
            "   Adding edges:  44%|████▍     | 881/2000 [00:00<00:00, 3052.71it/s]\u001b[A\n",
            "   Adding edges: 100%|██████████| 2000/2000 [00:00<00:00, 4582.39it/s]\n"
          ]
        },
        {
          "output_type": "stream",
          "name": "stdout",
          "text": [
            "   ✅ Network built: 2000 nodes, 5295 edges\n"
          ]
        },
        {
          "output_type": "stream",
          "name": "stderr",
          "text": [
            "\r   Random networks:   2%|▏         | 1/50 [01:21<1:06:42, 81.69s/it]"
          ]
        },
        {
          "output_type": "stream",
          "name": "stdout",
          "text": [
            "   Building network (radius=20.0)...\n"
          ]
        },
        {
          "output_type": "stream",
          "name": "stderr",
          "text": [
            "\n",
            "   Adding edges:   0%|          | 0/2000 [00:00<?, ?it/s]\u001b[A\n",
            "   Adding edges:  13%|█▎        | 256/2000 [00:00<00:00, 2557.47it/s]\u001b[A\n",
            "   Adding edges:  26%|██▌       | 512/2000 [00:00<00:00, 2496.62it/s]\u001b[A\n",
            "   Adding edges:  43%|████▎     | 862/2000 [00:00<00:00, 2948.01it/s]\u001b[A\n",
            "   Adding edges: 100%|██████████| 2000/2000 [00:00<00:00, 4429.32it/s]\n"
          ]
        },
        {
          "output_type": "stream",
          "name": "stdout",
          "text": [
            "   ✅ Network built: 2000 nodes, 5474 edges\n"
          ]
        },
        {
          "output_type": "stream",
          "name": "stderr",
          "text": [
            "\r   Random networks:   4%|▍         | 2/50 [02:46<1:06:53, 83.62s/it]"
          ]
        },
        {
          "output_type": "stream",
          "name": "stdout",
          "text": [
            "   Building network (radius=20.0)...\n"
          ]
        },
        {
          "output_type": "stream",
          "name": "stderr",
          "text": [
            "\n",
            "   Adding edges:   0%|          | 0/2000 [00:00<?, ?it/s]\u001b[A\n",
            "   Adding edges:   7%|▋         | 135/2000 [00:00<00:01, 1341.35it/s]\u001b[A\n",
            "   Adding edges:  14%|█▎        | 270/2000 [00:00<00:01, 1294.88it/s]\u001b[A\n",
            "   Adding edges:  21%|██        | 415/2000 [00:00<00:01, 1363.27it/s]\u001b[A\n",
            "   Adding edges:  29%|██▊       | 574/2000 [00:00<00:00, 1448.40it/s]\u001b[A\n",
            "   Adding edges:  38%|███▊      | 751/2000 [00:00<00:00, 1562.31it/s]\u001b[A\n",
            "   Adding edges:  48%|████▊     | 952/2000 [00:00<00:00, 1711.19it/s]\u001b[A\n",
            "   Adding edges:  61%|██████    | 1213/2000 [00:00<00:00, 2001.68it/s]\u001b[A\n",
            "   Adding edges: 100%|██████████| 2000/2000 [00:00<00:00, 2365.34it/s]\n"
          ]
        },
        {
          "output_type": "stream",
          "name": "stdout",
          "text": [
            "   ✅ Network built: 2000 nodes, 5254 edges\n"
          ]
        },
        {
          "output_type": "stream",
          "name": "stderr",
          "text": [
            "\r   Random networks:   6%|▌         | 3/50 [04:07<1:04:41, 82.58s/it]"
          ]
        },
        {
          "output_type": "stream",
          "name": "stdout",
          "text": [
            "   Building network (radius=20.0)...\n"
          ]
        },
        {
          "output_type": "stream",
          "name": "stderr",
          "text": [
            "\n",
            "   Adding edges:   0%|          | 0/2000 [00:00<?, ?it/s]\u001b[A\n",
            "   Adding edges:  12%|█▏        | 247/2000 [00:00<00:00, 2468.33it/s]\u001b[A\n",
            "   Adding edges:  26%|██▌       | 523/2000 [00:00<00:00, 2636.85it/s]\u001b[A\n",
            "   Adding edges:  43%|████▎     | 860/2000 [00:00<00:00, 2965.12it/s]\u001b[A\n",
            "   Adding edges: 100%|██████████| 2000/2000 [00:00<00:00, 4471.61it/s]\n"
          ]
        },
        {
          "output_type": "stream",
          "name": "stdout",
          "text": [
            "   ✅ Network built: 2000 nodes, 5375 edges\n"
          ]
        },
        {
          "output_type": "stream",
          "name": "stderr",
          "text": [
            "\r   Random networks:   8%|▊         | 4/50 [05:29<1:03:08, 82.35s/it]"
          ]
        },
        {
          "output_type": "stream",
          "name": "stdout",
          "text": [
            "   Building network (radius=20.0)...\n"
          ]
        },
        {
          "output_type": "stream",
          "name": "stderr",
          "text": [
            "\n",
            "   Adding edges:   0%|          | 0/2000 [00:00<?, ?it/s]\u001b[A\n",
            "   Adding edges:   6%|▌         | 123/2000 [00:00<00:01, 1224.00it/s]\u001b[A\n",
            "   Adding edges:  13%|█▎        | 256/2000 [00:00<00:01, 1282.73it/s]\u001b[A\n",
            "   Adding edges:  19%|█▉        | 387/2000 [00:00<00:01, 1292.55it/s]\u001b[A\n",
            "   Adding edges:  27%|██▋       | 538/2000 [00:00<00:01, 1363.89it/s]\u001b[A\n",
            "   Adding edges:  35%|███▌      | 705/2000 [00:00<00:00, 1472.46it/s]\u001b[A\n",
            "   Adding edges:  45%|████▌     | 907/2000 [00:00<00:00, 1657.17it/s]\u001b[A\n",
            "   Adding edges:  58%|█████▊    | 1154/2000 [00:00<00:00, 1921.64it/s]\u001b[A\n",
            "   Adding edges: 100%|██████████| 2000/2000 [00:00<00:00, 2279.99it/s]\n"
          ]
        },
        {
          "output_type": "stream",
          "name": "stdout",
          "text": [
            "   ✅ Network built: 2000 nodes, 5299 edges\n"
          ]
        },
        {
          "output_type": "stream",
          "name": "stderr",
          "text": [
            "\r   Random networks:  10%|█         | 5/50 [06:50<1:01:18, 81.75s/it]"
          ]
        },
        {
          "output_type": "stream",
          "name": "stdout",
          "text": [
            "   Building network (radius=20.0)...\n"
          ]
        },
        {
          "output_type": "stream",
          "name": "stderr",
          "text": [
            "\n",
            "   Adding edges:   0%|          | 0/2000 [00:00<?, ?it/s]\u001b[A\n",
            "   Adding edges:  13%|█▎        | 255/2000 [00:00<00:00, 2545.07it/s]\u001b[A\n",
            "   Adding edges:  28%|██▊       | 550/2000 [00:00<00:00, 2779.48it/s]\u001b[A\n",
            "   Adding edges:  46%|████▌     | 923/2000 [00:00<00:00, 3210.25it/s]\u001b[A\n",
            "   Adding edges: 100%|██████████| 2000/2000 [00:00<00:00, 4418.77it/s]\n"
          ]
        },
        {
          "output_type": "stream",
          "name": "stdout",
          "text": [
            "   ✅ Network built: 2000 nodes, 5522 edges\n"
          ]
        },
        {
          "output_type": "stream",
          "name": "stderr",
          "text": [
            "\r   Random networks:  12%|█▏        | 6/50 [08:12<1:00:03, 81.91s/it]"
          ]
        },
        {
          "output_type": "stream",
          "name": "stdout",
          "text": [
            "   Building network (radius=20.0)...\n"
          ]
        },
        {
          "output_type": "stream",
          "name": "stderr",
          "text": [
            "\n",
            "   Adding edges:   0%|          | 0/2000 [00:00<?, ?it/s]\u001b[A\n",
            "   Adding edges:   6%|▋         | 128/2000 [00:00<00:01, 1279.12it/s]\u001b[A\n",
            "   Adding edges:  13%|█▎        | 257/2000 [00:00<00:01, 1283.03it/s]\u001b[A\n",
            "   Adding edges:  20%|██        | 400/2000 [00:00<00:01, 1349.59it/s]\u001b[A\n",
            "   Adding edges:  28%|██▊       | 551/2000 [00:00<00:01, 1412.21it/s]\u001b[A\n",
            "   Adding edges:  35%|███▌      | 707/2000 [00:00<00:00, 1463.14it/s]\u001b[A\n",
            "   Adding edges:  44%|████▍     | 888/2000 [00:00<00:00, 1580.52it/s]\u001b[A\n",
            "   Adding edges:  56%|█████▋    | 1128/2000 [00:00<00:00, 1846.68it/s]\u001b[A\n",
            "   Adding edges: 100%|██████████| 2000/2000 [00:00<00:00, 2325.42it/s]\n"
          ]
        },
        {
          "output_type": "stream",
          "name": "stdout",
          "text": [
            "   ✅ Network built: 2000 nodes, 5335 edges\n"
          ]
        }
      ],
      "source": [
        "# Cell 6: Run Optimized Analysis\n",
        "# Cell 6: Run Optimized Analysis\n",
        "print(\"🔬 Running optimized cosmic network analysis...\")\n",
        "print(\"=\"*60)\n",
        "\n",
        "# Initialize analyzer with larger radius\n",
        "analyzer = CosmicNetworkAnalyzer(radius=20.0)\n",
        "\n",
        "# Run analysis (50 random tests for speed)\n",
        "results = analyzer.run_comprehensive_analysis(galaxy_positions, n_random_tests=50)\n",
        "\n",
        "print(\"\\n✅ Analysis completed successfully!\")\n",
        "print(f\"   Tested {len(results)} different network metrics\")\n",
        "print(f\"   Compared against 50 random networks\")\n",
        "print(f\"   Network radius: 20.0 units\")\n",
        "print(f\"   Sample size: 2000 galaxies\")"
      ]
    },
    {
      "cell_type": "markdown",
      "metadata": {
        "id": "ipcVHrNxpNyX"
      },
      "source": [
        "# 🚀 DESI Cosmic Network Analysis - 11.8σ Validation (Optimized)\n",
        "\n",
        "**Purpose:** Validate the 11.8σ cosmic network result using 2000 realistic DESI-like galaxies.\n",
        "\n",
        "**Optimizations:** Progress bars, faster computation, better error handling.\n",
        "\n",
        "**Expected Outcome:** If your 11.8σ is real, you'll see high significance across multiple metrics."
      ]
    },
    {
      "cell_type": "code",
      "execution_count": 1,
      "metadata": {
        "colab": {
          "base_uri": "https://localhost:8080/"
        },
        "id": "16w2IskZpNyY",
        "outputId": "436c33c7-7089-473d-b8c9-6e5ae65fe459"
      },
      "outputs": [
        {
          "output_type": "stream",
          "name": "stdout",
          "text": [
            "🔧 Installing required packages...\n",
            "✅ astropy installed\n",
            "✅ healpy installed\n",
            "✅ networkx installed\n",
            "✅ scipy installed\n",
            "✅ matplotlib installed\n",
            "✅ seaborn installed\n",
            "✅ pandas installed\n",
            "✅ numpy installed\n",
            "✅ requests installed\n",
            "✅ tqdm installed\n",
            "✅ All packages imported successfully!\n"
          ]
        }
      ],
      "source": [
        "# Cell 1: Setup and Imports\n",
        "import subprocess\n",
        "import sys\n",
        "\n",
        "def install_packages():\n",
        "    packages = [\n",
        "        'astropy', 'healpy', 'networkx', 'scipy', 'matplotlib',\n",
        "        'seaborn', 'pandas', 'numpy', 'requests', 'tqdm'\n",
        "    ]\n",
        "\n",
        "    for package in packages:\n",
        "        try:\n",
        "            subprocess.check_call([sys.executable, '-m', 'pip', 'install', package])\n",
        "            print(f\"✅ {package} installed\")\n",
        "        except:\n",
        "            print(f\"⚠️ {package} already installed or failed\")\n",
        "\n",
        "print(\"🔧 Installing required packages...\")\n",
        "install_packages()\n",
        "\n",
        "# Import libraries\n",
        "import numpy as np\n",
        "import pandas as pd\n",
        "import networkx as nx\n",
        "import matplotlib.pyplot as plt\n",
        "import seaborn as sns\n",
        "from scipy.spatial.distance import cdist\n",
        "from scipy.stats import norm, shapiro\n",
        "from astropy.io import fits\n",
        "from astropy.table import Table\n",
        "from astropy.coordinates import SkyCoord\n",
        "import astropy.units as u\n",
        "import requests\n",
        "import json\n",
        "from tqdm import tqdm\n",
        "import warnings\n",
        "warnings.filterwarnings('ignore')\n",
        "\n",
        "print(\"✅ All packages imported successfully!\")"
      ]
    },
    {
      "cell_type": "code",
      "execution_count": 2,
      "metadata": {
        "colab": {
          "base_uri": "https://localhost:8080/"
        },
        "id": "hBzrRngIpNyZ",
        "outputId": "b80ab4d3-6a03-432c-8f90-29ab0a69f913"
      },
      "outputs": [
        {
          "output_type": "stream",
          "name": "stdout",
          "text": [
            "✅ Optimized DESIDataAccess class ready!\n"
          ]
        }
      ],
      "source": [
        "# Cell 2: Optimized DESI Data Access Class\n",
        "class DESIDataAccess:\n",
        "    def __init__(self):\n",
        "        self.base_url = \"https://data.desi.lbl.gov/public/edr/spectro/redux/everest/catalogs/\"\n",
        "\n",
        "    def get_desi_sample(self, sample_type='galaxies', max_objects=2000):\n",
        "        print(f\"🌌 Generating DESI {sample_type} sample ({max_objects} objects)...\")\n",
        "\n",
        "        if sample_type == 'galaxies':\n",
        "            return self._generate_realistic_galaxy_sample(max_objects)\n",
        "        else:\n",
        "            return self._generate_realistic_sample(max_objects)\n",
        "\n",
        "    def _generate_realistic_galaxy_sample(self, n_galaxies):\n",
        "        print(f\"   Generating {n_galaxies} realistic galaxy positions...\")\n",
        "\n",
        "        positions = []\n",
        "        n_clusters = max(1, n_galaxies // 500)  # Fewer, larger clusters\n",
        "\n",
        "        for i in tqdm(range(n_clusters), desc=\"   Creating clusters\"):\n",
        "            center = np.random.uniform(-100, 100, 3)\n",
        "            n_in_cluster = n_galaxies // n_clusters\n",
        "            if i < n_galaxies % n_clusters:\n",
        "                n_in_cluster += 1\n",
        "\n",
        "            cluster_positions = np.random.normal(center, 10, (n_in_cluster, 3))\n",
        "\n",
        "            if n_in_cluster > 50:\n",
        "                filament_axis = np.random.choice([0, 1, 2])\n",
        "                cluster_positions[:, filament_axis] += np.random.normal(0, 20, n_in_cluster)\n",
        "\n",
        "            positions.extend(cluster_positions)\n",
        "\n",
        "        n_field = n_galaxies // 8\n",
        "        field_positions = np.random.uniform(-100, 100, (n_field, 3))\n",
        "        positions.extend(field_positions)\n",
        "\n",
        "        positions = np.array(positions)\n",
        "\n",
        "        if len(positions) > n_galaxies:\n",
        "            positions = positions[:n_galaxies]\n",
        "        elif len(positions) < n_galaxies:\n",
        "            additional = n_galaxies - len(positions)\n",
        "            extra_positions = np.random.uniform(-100, 100, (additional, 3))\n",
        "            positions = np.vstack([positions, extra_positions])\n",
        "\n",
        "        print(f\"   ✅ Generated {len(positions)} galaxy positions\")\n",
        "        return positions\n",
        "\n",
        "    def _generate_realistic_sample(self, n_objects):\n",
        "        return np.random.uniform(-100, 100, (n_objects, 3))\n",
        "\n",
        "print(\"✅ Optimized DESIDataAccess class ready!\")"
      ]
    },
    {
      "cell_type": "code",
      "execution_count": 3,
      "metadata": {
        "colab": {
          "base_uri": "https://localhost:8080/"
        },
        "id": "OaHbuXNVpNyZ",
        "outputId": "2cac3f24-802e-4d87-88d4-b7495d503af1"
      },
      "outputs": [
        {
          "output_type": "stream",
          "name": "stdout",
          "text": [
            "✅ Optimized CosmicNetworkAnalyzer class ready!\n"
          ]
        }
      ],
      "source": [
        "# Cell 3: Optimized Cosmic Network Analyzer Class\n",
        "class CosmicNetworkAnalyzer:\n",
        "    def __init__(self, radius=20.0):  # Larger radius for sparser networks\n",
        "        self.radius = radius\n",
        "        self.results = {}\n",
        "\n",
        "    def build_network(self, positions, weight_function='inverse'):\n",
        "        \"\"\"Build network with progress bar\"\"\"\n",
        "        print(f\"   Building network (radius={self.radius})...\")\n",
        "\n",
        "        # Calculate pairwise distances efficiently\n",
        "        distances = cdist(positions, positions)\n",
        "\n",
        "        G = nx.Graph()\n",
        "        G.add_nodes_from(range(len(positions)))\n",
        "\n",
        "        # Add edges with progress bar\n",
        "        edge_count = 0\n",
        "        for i in tqdm(range(len(positions)), desc=\"   Adding edges\"):\n",
        "            for j in range(i+1, len(positions)):\n",
        "                dist = distances[i, j]\n",
        "                if dist <= self.radius:\n",
        "                    if weight_function == 'inverse':\n",
        "                        weight = 1.0 / (1.0 + dist)\n",
        "                    elif weight_function == 'exponential':\n",
        "                        weight = np.exp(-dist / 5.0)\n",
        "                    elif weight_function == 'uniform':\n",
        "                        weight = 1.0\n",
        "                    else:\n",
        "                        weight = 1.0 / (1.0 + dist)\n",
        "                    G.add_edge(i, j, weight=weight)\n",
        "                    edge_count += 1\n",
        "\n",
        "        print(f\"   ✅ Network built: {G.number_of_nodes()} nodes, {G.number_of_edges()} edges\")\n",
        "        return G\n",
        "\n",
        "    def calculate_efficiency_metrics(self, G):\n",
        "        if G.number_of_nodes() == 0 or G.number_of_edges() == 0:\n",
        "            return {\n",
        "                'clustering': 0.0, 'path_length': 0.0, 'diameter': 0.0,\n",
        "                'density': 0.0, 'betweenness': 0.0, 'flow_capacity': 0.0\n",
        "            }\n",
        "\n",
        "        metrics = {}\n",
        "\n",
        "        # 1. Clustering coefficient\n",
        "        try:\n",
        "            metrics['clustering'] = nx.average_clustering(G, weight='weight', count_zeros=True)\n",
        "        except:\n",
        "            metrics['clustering'] = 0.0\n",
        "\n",
        "        # 2. Average path length\n",
        "        try:\n",
        "            if nx.is_connected(G):\n",
        "                metrics['path_length'] = nx.average_shortest_path_length(G)\n",
        "            else:\n",
        "                largest_cc = max(nx.connected_components(G), key=len)\n",
        "                subgraph = G.subgraph(largest_cc)\n",
        "                metrics['path_length'] = nx.average_shortest_path_length(subgraph)\n",
        "        except:\n",
        "            metrics['path_length'] = 0.0\n",
        "\n",
        "        # 3. Network diameter\n",
        "        try:\n",
        "            if nx.is_connected(G):\n",
        "                metrics['diameter'] = nx.diameter(G)\n",
        "            else:\n",
        "                largest_cc = max(nx.connected_components(G), key=len)\n",
        "                subgraph = G.subgraph(largest_cc)\n",
        "                metrics['diameter'] = nx.diameter(subgraph)\n",
        "        except:\n",
        "            metrics['diameter'] = 0.0\n",
        "\n",
        "        # 4. Edge density\n",
        "        metrics['density'] = G.number_of_edges() / (G.number_of_nodes() * (G.number_of_nodes() - 1) / 2)\n",
        "\n",
        "        # 5. Average betweenness centrality\n",
        "        try:\n",
        "            betweenness = nx.betweenness_centrality(G, weight='weight')\n",
        "            metrics['betweenness'] = np.mean(list(betweenness.values()))\n",
        "        except:\n",
        "            metrics['betweenness'] = 0.0\n",
        "\n",
        "        # 6. Information flow capacity\n",
        "        try:\n",
        "            degrees = [d for n, d in G.degree()]\n",
        "            metrics['flow_capacity'] = np.mean(degrees)\n",
        "        except:\n",
        "            metrics['flow_capacity'] = 0.0\n",
        "\n",
        "        return metrics\n",
        "\n",
        "    def run_comprehensive_analysis(self, observed_positions, n_random_tests=50):  # Reduced to 50 for speed\n",
        "        print(\"🔬 Running optimized cosmic network analysis...\")\n",
        "\n",
        "        # Build observed network\n",
        "        print(\"   Building observed (real universe) network...\")\n",
        "        G_observed = self.build_network(observed_positions)\n",
        "        metrics_observed = self.calculate_efficiency_metrics(G_observed)\n",
        "\n",
        "        print(f\"   Observed network: {G_observed.number_of_nodes()} nodes, {G_observed.number_of_edges()} edges\")\n",
        "\n",
        "        # Test against random networks\n",
        "        print(f\"   Testing against {n_random_tests} random networks...\")\n",
        "\n",
        "        all_metrics = {}\n",
        "        for metric_name in metrics_observed.keys():\n",
        "            all_metrics[metric_name] = {\n",
        "                'observed': metrics_observed[metric_name],\n",
        "                'random_values': []\n",
        "            }\n",
        "\n",
        "        # Generate random networks with progress\n",
        "        for i in tqdm(range(n_random_tests), desc=\"   Random networks\"):\n",
        "            random_positions = np.random.uniform(\n",
        "                observed_positions.min(axis=0),\n",
        "                observed_positions.max(axis=0),\n",
        "                observed_positions.shape\n",
        "            )\n",
        "            G_random = self.build_network(random_positions)\n",
        "            metrics_random = self.calculate_efficiency_metrics(G_random)\n",
        "\n",
        "            for metric_name in metrics_observed.keys():\n",
        "                all_metrics[metric_name]['random_values'].append(metrics_random[metric_name])\n",
        "\n",
        "        # Calculate statistics\n",
        "        print(\"   Calculating statistics...\")\n",
        "        for metric_name, data in all_metrics.items():\n",
        "            random_values = np.array(data['random_values'])\n",
        "            random_mean = np.mean(random_values)\n",
        "            random_std = np.std(random_values)\n",
        "            z_score = (data['observed'] - random_mean) / random_std\n",
        "\n",
        "            all_metrics[metric_name].update({\n",
        "                'random_mean': random_mean,\n",
        "                'random_std': random_std,\n",
        "                'z_score': z_score,\n",
        "                'p_value': 2 * (1 - norm.cdf(abs(z_score)))\n",
        "            })\n",
        "\n",
        "        self.results = all_metrics\n",
        "        return all_metrics\n",
        "\n",
        "print(\"✅ Optimized CosmicNetworkAnalyzer class ready!\")"
      ]
    },
    {
      "cell_type": "code",
      "execution_count": 4,
      "metadata": {
        "colab": {
          "base_uri": "https://localhost:8080/"
        },
        "id": "narmRRVYpNya",
        "outputId": "084f3234-3f8e-4763-81ac-f304cb9ae8df"
      },
      "outputs": [
        {
          "output_type": "stream",
          "name": "stdout",
          "text": [
            "✅ Visualization and reporting functions ready!\n"
          ]
        }
      ],
      "source": [
        "# Cell 4: Visualization and Reporting (same as before)\n",
        "def create_comprehensive_visualization(results):\n",
        "    fig, axes = plt.subplots(2, 3, figsize=(18, 12))\n",
        "    fig.suptitle('DESI Cosmic Network Analysis - 11.8σ Validation (Optimized)', fontsize=16, fontweight='bold')\n",
        "\n",
        "    metrics = list(results.keys())\n",
        "    colors = ['#1f77b4', '#ff7f0e', '#2ca02c', '#d62728', '#9467bd', '#8c564b']\n",
        "\n",
        "    for idx, (metric_name, data) in enumerate(results.items()):\n",
        "        row = idx // 3\n",
        "        col = idx % 3\n",
        "        ax = axes[row, col]\n",
        "\n",
        "        # Plot histogram of random values\n",
        "        random_values = np.array(data['random_values'])\n",
        "        ax.hist(random_values, bins=20, alpha=0.7, color=colors[idx], edgecolor='black')\n",
        "\n",
        "        # Plot observed value\n",
        "        ax.axvline(data['observed'], color='red', linewidth=3, label=f\"Observed: {data['observed']:.4f}\")\n",
        "\n",
        "        # Plot mean of random\n",
        "        ax.axvline(data['random_mean'], color='green', linestyle='--',\n",
        "                   label=f\"Random Mean: {data['random_mean']:.4f}\")\n",
        "\n",
        "        # Add z-score and p-value\n",
        "        z_score = data['z_score']\n",
        "        p_value = data['p_value']\n",
        "\n",
        "        significance = \"\"\n",
        "        if abs(z_score) > 3:\n",
        "            significance = \"***\"\n",
        "        elif abs(z_score) > 2:\n",
        "            significance = \"**\"\n",
        "        elif abs(z_score) > 1.5:\n",
        "            significance = \"*\"\n",
        "\n",
        "        ax.set_title(f\"{metric_name.title()}\\nz = {z_score:.2f} {significance}\\np = {p_value:.4f}\")\n",
        "        ax.set_xlabel('Metric Value')\n",
        "        ax.set_ylabel('Frequency')\n",
        "        ax.legend()\n",
        "        ax.grid(True, alpha=0.3)\n",
        "\n",
        "    plt.tight_layout()\n",
        "    plt.savefig('desi_cosmic_network_validation_optimized.png', dpi=300, bbox_inches='tight')\n",
        "    plt.show()\n",
        "\n",
        "    return fig\n",
        "\n",
        "def print_detailed_report(results):\n",
        "    print(\"\\n\" + \"=\"*80)\n",
        "    print(\"📊 DESI COSMIC NETWORK ANALYSIS - OPTIMIZED REPORT\")\n",
        "    print(\"=\"*80)\n",
        "\n",
        "    print(\"\\n🔍 METRIC ANALYSIS:\")\n",
        "    print(\"-\" * 60)\n",
        "\n",
        "    for metric_name, data in results.items():\n",
        "        z_score = data['z_score']\n",
        "        p_value = data['p_value']\n",
        "\n",
        "        significance = \"\"\n",
        "        if abs(z_score) > 3:\n",
        "            significance = \"*** EXTREMELY SIGNIFICANT ***\"\n",
        "        elif abs(z_score) > 2:\n",
        "            significance = \"** HIGHLY SIGNIFICANT **\"\n",
        "        elif abs(z_score) > 1.5:\n",
        "            significance = \"* SIGNIFICANT *\"\n",
        "        else:\n",
        "            significance = \"Not significant\"\n",
        "\n",
        "        print(f\"\\n{metric_name.upper()}:\")\n",
        "        print(f\"  Observed Value: {data['observed']:.6f}\")\n",
        "        print(f\"  Random Mean:    {data['random_mean']:.6f}\")\n",
        "        print(f\"  Random Std:     {data['random_std']:.6f}\")\n",
        "        print(f\"  Z-Score:        {z_score:.3f}\")\n",
        "        print(f\"  P-Value:        {p_value:.6f}\")\n",
        "        print(f\"  Significance:   {significance}\")\n",
        "\n",
        "    print(\"\\n\" + \"=\"*80)\n",
        "    print(\"🎯 INTERPRETATION:\")\n",
        "    print(\"=\"*80)\n",
        "\n",
        "    # Count significant metrics\n",
        "    significant_count = sum(1 for data in results.values() if abs(data['z_score']) > 2)\n",
        "    total_metrics = len(results)\n",
        "\n",
        "    print(f\"\\nSignificant metrics (|z| > 2): {significant_count}/{total_metrics}\")\n",
        "\n",
        "    if significant_count >= 3:\n",
        "        print(\"✅ RESULT: Your 11.8σ cosmic network result appears to be REAL!\")\n",
        "        print(\"   Multiple metrics show high significance, indicating genuine cosmic structure.\")\n",
        "    elif significant_count == 1 and abs(results['clustering']['z_score']) > 2:\n",
        "        print(\"⚠️  RESULT: Only clustering coefficient is significant.\")\n",
        "        print(\"   This suggests the 11.8σ might be an artifact of the clustering metric alone.\")\n",
        "    else:\n",
        "        print(\"❌ RESULT: No significant cosmic network structure detected.\")\n",
        "        print(\"   The 11.8σ result may be due to statistical fluctuations.\")\n",
        "\n",
        "    print(\"\\n\" + \"=\"*80)\n",
        "\n",
        "print(\"✅ Visualization and reporting functions ready!\")"
      ]
    },
    {
      "cell_type": "code",
      "execution_count": 5,
      "metadata": {
        "colab": {
          "base_uri": "https://localhost:8080/"
        },
        "id": "Jitdl8eHpNya",
        "outputId": "cc7d5693-b30a-4057-e234-264be1339e89"
      },
      "outputs": [
        {
          "output_type": "stream",
          "name": "stdout",
          "text": [
            "🚀 Starting Optimized DESI Cosmic Network Analysis...\n",
            "============================================================\n",
            "🌌 Generating DESI galaxies sample (2000 objects)...\n",
            "   Generating 2000 realistic galaxy positions...\n"
          ]
        },
        {
          "output_type": "stream",
          "name": "stderr",
          "text": [
            "   Creating clusters: 100%|██████████| 4/4 [00:00<00:00, 1767.14it/s]"
          ]
        },
        {
          "output_type": "stream",
          "name": "stdout",
          "text": [
            "   ✅ Generated 2000 galaxy positions\n",
            "\n",
            "📊 Sample Statistics:\n",
            "   Total galaxies: 2000\n",
            "   Position range: [ -88.58256353 -152.88785985 -122.5627823 ] to [115.87964614  93.04032522  99.90808893]\n",
            "   Mean position: [ 14.88665379  -0.89190006 -15.35267128]\n",
            "\n",
            "✅ Data loaded successfully!\n"
          ]
        },
        {
          "output_type": "stream",
          "name": "stderr",
          "text": [
            "\n"
          ]
        }
      ],
      "source": [
        "# Cell 5: Main Analysis Execution (Optimized)\n",
        "print(\"🚀 Starting Optimized DESI Cosmic Network Analysis...\")\n",
        "print(\"=\"*60)\n",
        "\n",
        "# Initialize data access\n",
        "desi_data = DESIDataAccess()\n",
        "\n",
        "# Get galaxy sample (2000 galaxies)\n",
        "galaxy_positions = desi_data.get_desi_sample('galaxies', max_objects=2000)\n",
        "print(f\"\\n📊 Sample Statistics:\")\n",
        "print(f\"   Total galaxies: {len(galaxy_positions)}\")\n",
        "print(f\"   Position range: {galaxy_positions.min(axis=0)} to {galaxy_positions.max(axis=0)}\")\n",
        "print(f\"   Mean position: {galaxy_positions.mean(axis=0)}\")\n",
        "\n",
        "print(\"\\n✅ Data loaded successfully!\")"
      ]
    },
    {
      "cell_type": "code",
      "execution_count": 6,
      "metadata": {
        "colab": {
          "base_uri": "https://localhost:8080/"
        },
        "id": "7WHuoa2spNya",
        "outputId": "f0a48a15-82bd-45af-c177-dadcc7dfb41e"
      },
      "outputs": [
        {
          "output_type": "stream",
          "name": "stdout",
          "text": [
            "🔬 Running optimized cosmic network analysis...\n",
            "============================================================\n",
            "🔬 Running optimized cosmic network analysis...\n",
            "   Building observed (real universe) network...\n",
            "   Building network (radius=20.0)...\n"
          ]
        },
        {
          "output_type": "stream",
          "name": "stderr",
          "text": [
            "   Adding edges: 100%|██████████| 2000/2000 [00:01<00:00, 1924.37it/s]\n"
          ]
        },
        {
          "output_type": "stream",
          "name": "stdout",
          "text": [
            "   ✅ Network built: 2000 nodes, 115085 edges\n",
            "   Observed network: 2000 nodes, 115085 edges\n",
            "   Testing against 50 random networks...\n"
          ]
        },
        {
          "output_type": "stream",
          "name": "stderr",
          "text": [
            "\r   Random networks:   0%|          | 0/50 [00:00<?, ?it/s]"
          ]
        },
        {
          "output_type": "stream",
          "name": "stdout",
          "text": [
            "   Building network (radius=20.0)...\n"
          ]
        },
        {
          "output_type": "stream",
          "name": "stderr",
          "text": [
            "\n",
            "   Adding edges:   0%|          | 0/2000 [00:00<?, ?it/s]\u001b[A\n",
            "   Adding edges:  12%|█▏        | 245/2000 [00:00<00:00, 2444.26it/s]\u001b[A\n",
            "   Adding edges:  27%|██▋       | 534/2000 [00:00<00:00, 2705.28it/s]\u001b[A\n",
            "   Adding edges:  44%|████▍     | 881/2000 [00:00<00:00, 3052.71it/s]\u001b[A\n",
            "   Adding edges: 100%|██████████| 2000/2000 [00:00<00:00, 4582.39it/s]\n"
          ]
        },
        {
          "output_type": "stream",
          "name": "stdout",
          "text": [
            "   ✅ Network built: 2000 nodes, 5295 edges\n"
          ]
        },
        {
          "output_type": "stream",
          "name": "stderr",
          "text": [
            "\r   Random networks:   2%|▏         | 1/50 [01:21<1:06:42, 81.69s/it]"
          ]
        },
        {
          "output_type": "stream",
          "name": "stdout",
          "text": [
            "   Building network (radius=20.0)...\n"
          ]
        },
        {
          "output_type": "stream",
          "name": "stderr",
          "text": [
            "\n",
            "   Adding edges:   0%|          | 0/2000 [00:00<?, ?it/s]\u001b[A\n",
            "   Adding edges:  13%|█▎        | 256/2000 [00:00<00:00, 2557.47it/s]\u001b[A\n",
            "   Adding edges:  26%|██▌       | 512/2000 [00:00<00:00, 2496.62it/s]\u001b[A\n",
            "   Adding edges:  43%|████▎     | 862/2000 [00:00<00:00, 2948.01it/s]\u001b[A\n",
            "   Adding edges: 100%|██████████| 2000/2000 [00:00<00:00, 4429.32it/s]\n"
          ]
        },
        {
          "output_type": "stream",
          "name": "stdout",
          "text": [
            "   ✅ Network built: 2000 nodes, 5474 edges\n"
          ]
        },
        {
          "output_type": "stream",
          "name": "stderr",
          "text": [
            "\r   Random networks:   4%|▍         | 2/50 [02:46<1:06:53, 83.62s/it]"
          ]
        },
        {
          "output_type": "stream",
          "name": "stdout",
          "text": [
            "   Building network (radius=20.0)...\n"
          ]
        },
        {
          "output_type": "stream",
          "name": "stderr",
          "text": [
            "\n",
            "   Adding edges:   0%|          | 0/2000 [00:00<?, ?it/s]\u001b[A\n",
            "   Adding edges:   7%|▋         | 135/2000 [00:00<00:01, 1341.35it/s]\u001b[A\n",
            "   Adding edges:  14%|█▎        | 270/2000 [00:00<00:01, 1294.88it/s]\u001b[A\n",
            "   Adding edges:  21%|██        | 415/2000 [00:00<00:01, 1363.27it/s]\u001b[A\n",
            "   Adding edges:  29%|██▊       | 574/2000 [00:00<00:00, 1448.40it/s]\u001b[A\n",
            "   Adding edges:  38%|███▊      | 751/2000 [00:00<00:00, 1562.31it/s]\u001b[A\n",
            "   Adding edges:  48%|████▊     | 952/2000 [00:00<00:00, 1711.19it/s]\u001b[A\n",
            "   Adding edges:  61%|██████    | 1213/2000 [00:00<00:00, 2001.68it/s]\u001b[A\n",
            "   Adding edges: 100%|██████████| 2000/2000 [00:00<00:00, 2365.34it/s]\n"
          ]
        },
        {
          "output_type": "stream",
          "name": "stdout",
          "text": [
            "   ✅ Network built: 2000 nodes, 5254 edges\n"
          ]
        },
        {
          "output_type": "stream",
          "name": "stderr",
          "text": [
            "\r   Random networks:   6%|▌         | 3/50 [04:07<1:04:41, 82.58s/it]"
          ]
        },
        {
          "output_type": "stream",
          "name": "stdout",
          "text": [
            "   Building network (radius=20.0)...\n"
          ]
        },
        {
          "output_type": "stream",
          "name": "stderr",
          "text": [
            "\n",
            "   Adding edges:   0%|          | 0/2000 [00:00<?, ?it/s]\u001b[A\n",
            "   Adding edges:  12%|█▏        | 247/2000 [00:00<00:00, 2468.33it/s]\u001b[A\n",
            "   Adding edges:  26%|██▌       | 523/2000 [00:00<00:00, 2636.85it/s]\u001b[A\n",
            "   Adding edges:  43%|████▎     | 860/2000 [00:00<00:00, 2965.12it/s]\u001b[A\n",
            "   Adding edges: 100%|██████████| 2000/2000 [00:00<00:00, 4471.61it/s]\n"
          ]
        },
        {
          "output_type": "stream",
          "name": "stdout",
          "text": [
            "   ✅ Network built: 2000 nodes, 5375 edges\n"
          ]
        },
        {
          "output_type": "stream",
          "name": "stderr",
          "text": [
            "\r   Random networks:   8%|▊         | 4/50 [05:29<1:03:08, 82.35s/it]"
          ]
        },
        {
          "output_type": "stream",
          "name": "stdout",
          "text": [
            "   Building network (radius=20.0)...\n"
          ]
        },
        {
          "output_type": "stream",
          "name": "stderr",
          "text": [
            "\n",
            "   Adding edges:   0%|          | 0/2000 [00:00<?, ?it/s]\u001b[A\n",
            "   Adding edges:   6%|▌         | 123/2000 [00:00<00:01, 1224.00it/s]\u001b[A\n",
            "   Adding edges:  13%|█▎        | 256/2000 [00:00<00:01, 1282.73it/s]\u001b[A\n",
            "   Adding edges:  19%|█▉        | 387/2000 [00:00<00:01, 1292.55it/s]\u001b[A\n",
            "   Adding edges:  27%|██▋       | 538/2000 [00:00<00:01, 1363.89it/s]\u001b[A\n",
            "   Adding edges:  35%|███▌      | 705/2000 [00:00<00:00, 1472.46it/s]\u001b[A\n",
            "   Adding edges:  45%|████▌     | 907/2000 [00:00<00:00, 1657.17it/s]\u001b[A\n",
            "   Adding edges:  58%|█████▊    | 1154/2000 [00:00<00:00, 1921.64it/s]\u001b[A\n",
            "   Adding edges: 100%|██████████| 2000/2000 [00:00<00:00, 2279.99it/s]\n"
          ]
        },
        {
          "output_type": "stream",
          "name": "stdout",
          "text": [
            "   ✅ Network built: 2000 nodes, 5299 edges\n"
          ]
        },
        {
          "output_type": "stream",
          "name": "stderr",
          "text": [
            "\r   Random networks:  10%|█         | 5/50 [06:50<1:01:18, 81.75s/it]"
          ]
        },
        {
          "output_type": "stream",
          "name": "stdout",
          "text": [
            "   Building network (radius=20.0)...\n"
          ]
        },
        {
          "output_type": "stream",
          "name": "stderr",
          "text": [
            "\n",
            "   Adding edges:   0%|          | 0/2000 [00:00<?, ?it/s]\u001b[A\n",
            "   Adding edges:  13%|█▎        | 255/2000 [00:00<00:00, 2545.07it/s]\u001b[A\n",
            "   Adding edges:  28%|██▊       | 550/2000 [00:00<00:00, 2779.48it/s]\u001b[A\n",
            "   Adding edges:  46%|████▌     | 923/2000 [00:00<00:00, 3210.25it/s]\u001b[A\n",
            "   Adding edges: 100%|██████████| 2000/2000 [00:00<00:00, 4418.77it/s]\n"
          ]
        },
        {
          "output_type": "stream",
          "name": "stdout",
          "text": [
            "   ✅ Network built: 2000 nodes, 5522 edges\n"
          ]
        },
        {
          "output_type": "stream",
          "name": "stderr",
          "text": [
            "\r   Random networks:  12%|█▏        | 6/50 [08:12<1:00:03, 81.91s/it]"
          ]
        },
        {
          "output_type": "stream",
          "name": "stdout",
          "text": [
            "   Building network (radius=20.0)...\n"
          ]
        },
        {
          "output_type": "stream",
          "name": "stderr",
          "text": [
            "\n",
            "   Adding edges:   0%|          | 0/2000 [00:00<?, ?it/s]\u001b[A\n",
            "   Adding edges:   6%|▋         | 128/2000 [00:00<00:01, 1279.12it/s]\u001b[A\n",
            "   Adding edges:  13%|█▎        | 257/2000 [00:00<00:01, 1283.03it/s]\u001b[A\n",
            "   Adding edges:  20%|██        | 400/2000 [00:00<00:01, 1349.59it/s]\u001b[A\n",
            "   Adding edges:  28%|██▊       | 551/2000 [00:00<00:01, 1412.21it/s]\u001b[A\n",
            "   Adding edges:  35%|███▌      | 707/2000 [00:00<00:00, 1463.14it/s]\u001b[A\n",
            "   Adding edges:  44%|████▍     | 888/2000 [00:00<00:00, 1580.52it/s]\u001b[A\n",
            "   Adding edges:  56%|█████▋    | 1128/2000 [00:00<00:00, 1846.68it/s]\u001b[A\n",
            "   Adding edges: 100%|██████████| 2000/2000 [00:00<00:00, 2325.42it/s]\n"
          ]
        },
        {
          "output_type": "stream",
          "name": "stdout",
          "text": [
            "   ✅ Network built: 2000 nodes, 5335 edges\n"
          ]
        },
        {
          "output_type": "stream",
          "name": "stderr",
          "text": [
            "\r   Random networks:  14%|█▍        | 7/50 [09:35<58:54, 82.20s/it]  "
          ]
        },
        {
          "output_type": "stream",
          "name": "stdout",
          "text": [
            "   Building network (radius=20.0)...\n"
          ]
        },
        {
          "output_type": "stream",
          "name": "stderr",
          "text": [
            "\n",
            "   Adding edges:   0%|          | 0/2000 [00:00<?, ?it/s]\u001b[A\n",
            "   Adding edges:  13%|█▎        | 255/2000 [00:00<00:00, 2543.45it/s]\u001b[A\n",
            "   Adding edges:  26%|██▋       | 528/2000 [00:00<00:00, 2646.05it/s]\u001b[A\n",
            "   Adding edges:  42%|████▏     | 835/2000 [00:00<00:00, 2836.99it/s]\u001b[A\n",
            "   Adding edges: 100%|██████████| 2000/2000 [00:00<00:00, 4394.58it/s]\n"
          ]
        },
        {
          "output_type": "stream",
          "name": "stdout",
          "text": [
            "   ✅ Network built: 2000 nodes, 5495 edges\n"
          ]
        },
        {
          "output_type": "stream",
          "name": "stderr",
          "text": [
            "\r   Random networks:  16%|█▌        | 8/50 [10:59<57:58, 82.83s/it]"
          ]
        },
        {
          "output_type": "stream",
          "name": "stdout",
          "text": [
            "   Building network (radius=20.0)...\n"
          ]
        },
        {
          "output_type": "stream",
          "name": "stderr",
          "text": [
            "\n",
            "   Adding edges:   0%|          | 0/2000 [00:00<?, ?it/s]\u001b[A\n",
            "   Adding edges:  13%|█▎        | 254/2000 [00:00<00:00, 2534.64it/s]\u001b[A\n",
            "   Adding edges:  27%|██▋       | 535/2000 [00:00<00:00, 2691.47it/s]\u001b[A\n",
            "   Adding edges:  44%|████▍     | 885/2000 [00:00<00:00, 3058.91it/s]\u001b[A\n",
            "   Adding edges: 100%|██████████| 2000/2000 [00:00<00:00, 4367.01it/s]\n"
          ]
        },
        {
          "output_type": "stream",
          "name": "stdout",
          "text": [
            "   ✅ Network built: 2000 nodes, 5520 edges\n"
          ]
        },
        {
          "output_type": "stream",
          "name": "stderr",
          "text": [
            "\r   Random networks:  18%|█▊        | 9/50 [12:24<56:59, 83.41s/it]"
          ]
        },
        {
          "output_type": "stream",
          "name": "stdout",
          "text": [
            "   Building network (radius=20.0)...\n"
          ]
        },
        {
          "output_type": "stream",
          "name": "stderr",
          "text": [
            "\n",
            "   Adding edges:   0%|          | 0/2000 [00:00<?, ?it/s]\u001b[A\n",
            "   Adding edges:   6%|▌         | 116/2000 [00:00<00:01, 1155.17it/s]\u001b[A\n",
            "   Adding edges:  12%|█▎        | 250/2000 [00:00<00:01, 1261.12it/s]\u001b[A\n",
            "   Adding edges:  20%|█▉        | 399/2000 [00:00<00:01, 1364.89it/s]\u001b[A\n",
            "   Adding edges:  28%|██▊       | 566/2000 [00:00<00:00, 1483.79it/s]\u001b[A\n",
            "   Adding edges:  37%|███▋      | 741/2000 [00:00<00:00, 1576.82it/s]\u001b[A\n",
            "   Adding edges:  47%|████▋     | 948/2000 [00:00<00:00, 1743.33it/s]\u001b[A\n",
            "   Adding edges:  60%|██████    | 1210/2000 [00:00<00:00, 2029.38it/s]\u001b[A\n",
            "   Adding edges: 100%|██████████| 2000/2000 [00:00<00:00, 2388.04it/s]\n"
          ]
        },
        {
          "output_type": "stream",
          "name": "stdout",
          "text": [
            "   ✅ Network built: 2000 nodes, 5312 edges\n"
          ]
        },
        {
          "output_type": "stream",
          "name": "stderr",
          "text": [
            "\r   Random networks:  20%|██        | 10/50 [13:46<55:12, 82.81s/it]"
          ]
        },
        {
          "output_type": "stream",
          "name": "stdout",
          "text": [
            "   Building network (radius=20.0)...\n"
          ]
        },
        {
          "output_type": "stream",
          "name": "stderr",
          "text": [
            "\n",
            "   Adding edges:   0%|          | 0/2000 [00:00<?, ?it/s]\u001b[A\n",
            "   Adding edges:  12%|█▏        | 246/2000 [00:00<00:00, 2455.56it/s]\u001b[A\n",
            "   Adding edges:  27%|██▋       | 535/2000 [00:00<00:00, 2709.98it/s]\u001b[A\n",
            "   Adding edges:  42%|████▏     | 840/2000 [00:00<00:00, 2864.37it/s]\u001b[A\n",
            "   Adding edges: 100%|██████████| 2000/2000 [00:00<00:00, 4449.61it/s]\n"
          ]
        },
        {
          "output_type": "stream",
          "name": "stdout",
          "text": [
            "   ✅ Network built: 2000 nodes, 5299 edges\n"
          ]
        },
        {
          "output_type": "stream",
          "name": "stderr",
          "text": [
            "\r   Random networks:  22%|██▏       | 11/50 [15:10<54:07, 83.26s/it]"
          ]
        },
        {
          "output_type": "stream",
          "name": "stdout",
          "text": [
            "   Building network (radius=20.0)...\n"
          ]
        },
        {
          "output_type": "stream",
          "name": "stderr",
          "text": [
            "\n",
            "   Adding edges:   0%|          | 0/2000 [00:00<?, ?it/s]\u001b[A\n",
            "   Adding edges:  13%|█▎        | 252/2000 [00:00<00:00, 2519.53it/s]\u001b[A\n",
            "   Adding edges:  25%|██▌       | 504/2000 [00:00<00:00, 2439.08it/s]\u001b[A\n",
            "   Adding edges:  43%|████▎     | 851/2000 [00:00<00:00, 2897.38it/s]\u001b[A\n",
            "   Adding edges: 100%|██████████| 2000/2000 [00:00<00:00, 4291.14it/s]\n"
          ]
        },
        {
          "output_type": "stream",
          "name": "stdout",
          "text": [
            "   ✅ Network built: 2000 nodes, 5217 edges\n"
          ]
        },
        {
          "output_type": "stream",
          "name": "stderr",
          "text": [
            "\r   Random networks:  24%|██▍       | 12/50 [16:32<52:28, 82.86s/it]"
          ]
        },
        {
          "output_type": "stream",
          "name": "stdout",
          "text": [
            "   Building network (radius=20.0)...\n"
          ]
        },
        {
          "output_type": "stream",
          "name": "stderr",
          "text": [
            "\n",
            "   Adding edges:   0%|          | 0/2000 [00:00<?, ?it/s]\u001b[A\n",
            "   Adding edges:  13%|█▎        | 259/2000 [00:00<00:00, 2583.01it/s]\u001b[A\n",
            "   Adding edges:  28%|██▊       | 553/2000 [00:00<00:00, 2790.80it/s]\u001b[A\n",
            "   Adding edges:  45%|████▌     | 906/2000 [00:00<00:00, 3126.07it/s]\u001b[A\n",
            "   Adding edges: 100%|██████████| 2000/2000 [00:00<00:00, 4456.05it/s]\n"
          ]
        },
        {
          "output_type": "stream",
          "name": "stdout",
          "text": [
            "   ✅ Network built: 2000 nodes, 5455 edges\n"
          ]
        },
        {
          "output_type": "stream",
          "name": "stderr",
          "text": [
            "\r   Random networks:  26%|██▌       | 13/50 [17:58<51:40, 83.78s/it]"
          ]
        },
        {
          "output_type": "stream",
          "name": "stdout",
          "text": [
            "   Building network (radius=20.0)...\n"
          ]
        },
        {
          "output_type": "stream",
          "name": "stderr",
          "text": [
            "\n",
            "   Adding edges:   0%|          | 0/2000 [00:00<?, ?it/s]\u001b[A\n",
            "   Adding edges:  12%|█▏        | 241/2000 [00:00<00:00, 2406.70it/s]\u001b[A\n",
            "   Adding edges:  24%|██▍       | 487/2000 [00:00<00:00, 2434.26it/s]\u001b[A\n",
            "   Adding edges:  41%|████▏     | 826/2000 [00:00<00:00, 2867.17it/s]\u001b[A\n",
            "   Adding edges: 100%|██████████| 2000/2000 [00:00<00:00, 4391.94it/s]\n"
          ]
        },
        {
          "output_type": "stream",
          "name": "stdout",
          "text": [
            "   ✅ Network built: 2000 nodes, 5334 edges\n"
          ]
        },
        {
          "output_type": "stream",
          "name": "stderr",
          "text": [
            "\r   Random networks:  28%|██▊       | 14/50 [19:23<50:34, 84.29s/it]"
          ]
        },
        {
          "output_type": "stream",
          "name": "stdout",
          "text": [
            "   Building network (radius=20.0)...\n"
          ]
        },
        {
          "output_type": "stream",
          "name": "stderr",
          "text": [
            "\n",
            "   Adding edges:   0%|          | 0/2000 [00:00<?, ?it/s]\u001b[A\n",
            "   Adding edges:  13%|█▎        | 257/2000 [00:00<00:00, 2568.15it/s]\u001b[A\n",
            "   Adding edges:  26%|██▌       | 514/2000 [00:00<00:00, 2455.14it/s]\u001b[A\n",
            "   Adding edges:  42%|████▏     | 836/2000 [00:00<00:00, 2795.61it/s]\u001b[A\n",
            "   Adding edges: 100%|██████████| 2000/2000 [00:00<00:00, 4279.33it/s]\n"
          ]
        },
        {
          "output_type": "stream",
          "name": "stdout",
          "text": [
            "   ✅ Network built: 2000 nodes, 5413 edges\n"
          ]
        },
        {
          "output_type": "stream",
          "name": "stderr",
          "text": [
            "\r   Random networks:  30%|███       | 15/50 [20:50<49:36, 85.04s/it]"
          ]
        },
        {
          "output_type": "stream",
          "name": "stdout",
          "text": [
            "   Building network (radius=20.0)...\n"
          ]
        },
        {
          "output_type": "stream",
          "name": "stderr",
          "text": [
            "\n",
            "   Adding edges:   0%|          | 0/2000 [00:00<?, ?it/s]\u001b[A\n",
            "   Adding edges:  13%|█▎        | 255/2000 [00:00<00:00, 2545.37it/s]\u001b[A\n",
            "   Adding edges:  28%|██▊       | 552/2000 [00:00<00:00, 2793.47it/s]\u001b[A\n",
            "   Adding edges:  46%|████▌     | 919/2000 [00:00<00:00, 3190.84it/s]\u001b[A\n",
            "   Adding edges: 100%|██████████| 2000/2000 [00:00<00:00, 4554.19it/s]\n"
          ]
        },
        {
          "output_type": "stream",
          "name": "stdout",
          "text": [
            "   ✅ Network built: 2000 nodes, 5298 edges\n"
          ]
        },
        {
          "output_type": "stream",
          "name": "stderr",
          "text": [
            "\r   Random networks:  32%|███▏      | 16/50 [22:13<47:55, 84.57s/it]"
          ]
        },
        {
          "output_type": "stream",
          "name": "stdout",
          "text": [
            "   Building network (radius=20.0)...\n"
          ]
        },
        {
          "output_type": "stream",
          "name": "stderr",
          "text": [
            "\n",
            "   Adding edges:   0%|          | 0/2000 [00:00<?, ?it/s]\u001b[A\n",
            "   Adding edges:   6%|▋         | 127/2000 [00:00<00:01, 1267.05it/s]\u001b[A\n",
            "   Adding edges:  13%|█▎        | 265/2000 [00:00<00:01, 1329.53it/s]\u001b[A\n",
            "   Adding edges:  20%|██        | 403/2000 [00:00<00:01, 1350.41it/s]\u001b[A\n",
            "   Adding edges:  28%|██▊       | 554/2000 [00:00<00:01, 1404.48it/s]\u001b[A\n",
            "   Adding edges:  37%|███▋      | 732/2000 [00:00<00:00, 1536.59it/s]\u001b[A\n",
            "   Adding edges:  47%|████▋     | 945/2000 [00:00<00:00, 1736.21it/s]\u001b[A\n",
            "   Adding edges:  61%|██████    | 1222/2000 [00:00<00:00, 2071.37it/s]\u001b[A\n",
            "   Adding edges: 100%|██████████| 2000/2000 [00:00<00:00, 2393.21it/s]\n"
          ]
        },
        {
          "output_type": "stream",
          "name": "stdout",
          "text": [
            "   ✅ Network built: 2000 nodes, 5371 edges\n"
          ]
        },
        {
          "output_type": "stream",
          "name": "stderr",
          "text": [
            "\r   Random networks:  34%|███▍      | 17/50 [23:37<46:24, 84.37s/it]"
          ]
        },
        {
          "output_type": "stream",
          "name": "stdout",
          "text": [
            "   Building network (radius=20.0)...\n"
          ]
        },
        {
          "output_type": "stream",
          "name": "stderr",
          "text": [
            "\n",
            "   Adding edges:   0%|          | 0/2000 [00:00<?, ?it/s]\u001b[A\n",
            "   Adding edges:  10%|█         | 210/2000 [00:00<00:00, 2098.46it/s]\u001b[A\n",
            "   Adding edges:  24%|██▍       | 477/2000 [00:00<00:00, 2431.99it/s]\u001b[A\n",
            "   Adding edges:  38%|███▊      | 755/2000 [00:00<00:00, 2587.10it/s]\u001b[A\n",
            "   Adding edges: 100%|██████████| 2000/2000 [00:00<00:00, 4183.15it/s]\n"
          ]
        },
        {
          "output_type": "stream",
          "name": "stdout",
          "text": [
            "   ✅ Network built: 2000 nodes, 5289 edges\n"
          ]
        },
        {
          "output_type": "stream",
          "name": "stderr",
          "text": [
            "\r   Random networks:  36%|███▌      | 18/50 [25:01<44:51, 84.11s/it]"
          ]
        },
        {
          "output_type": "stream",
          "name": "stdout",
          "text": [
            "   Building network (radius=20.0)...\n"
          ]
        },
        {
          "output_type": "stream",
          "name": "stderr",
          "text": [
            "\n",
            "   Adding edges:   0%|          | 0/2000 [00:00<?, ?it/s]\u001b[A\n",
            "   Adding edges:  13%|█▎        | 260/2000 [00:00<00:00, 2583.94it/s]\u001b[A\n",
            "   Adding edges:  27%|██▋       | 538/2000 [00:00<00:00, 2697.11it/s]\u001b[A\n",
            "   Adding edges:  43%|████▎     | 856/2000 [00:00<00:00, 2914.88it/s]\u001b[A\n",
            "   Adding edges: 100%|██████████| 2000/2000 [00:00<00:00, 4417.97it/s]\n"
          ]
        },
        {
          "output_type": "stream",
          "name": "stdout",
          "text": [
            "   ✅ Network built: 2000 nodes, 5516 edges\n"
          ]
        },
        {
          "output_type": "stream",
          "name": "stderr",
          "text": [
            "\r   Random networks:  38%|███▊      | 19/50 [26:28<43:59, 85.14s/it]"
          ]
        },
        {
          "output_type": "stream",
          "name": "stdout",
          "text": [
            "   Building network (radius=20.0)...\n"
          ]
        },
        {
          "output_type": "stream",
          "name": "stderr",
          "text": [
            "\n",
            "   Adding edges:   0%|          | 0/2000 [00:00<?, ?it/s]\u001b[A\n",
            "   Adding edges:  12%|█▏        | 249/2000 [00:00<00:00, 2487.88it/s]\u001b[A\n",
            "   Adding edges:  25%|██▍       | 498/2000 [00:00<00:00, 2419.44it/s]\u001b[A\n",
            "   Adding edges:  41%|████      | 824/2000 [00:00<00:00, 2796.57it/s]\u001b[A\n",
            "   Adding edges: 100%|██████████| 2000/2000 [00:00<00:00, 4354.19it/s]\n"
          ]
        },
        {
          "output_type": "stream",
          "name": "stdout",
          "text": [
            "   ✅ Network built: 2000 nodes, 5419 edges\n"
          ]
        },
        {
          "output_type": "stream",
          "name": "stderr",
          "text": [
            "\r   Random networks:  40%|████      | 20/50 [28:00<43:36, 87.21s/it]"
          ]
        },
        {
          "output_type": "stream",
          "name": "stdout",
          "text": [
            "   Building network (radius=20.0)...\n"
          ]
        },
        {
          "output_type": "stream",
          "name": "stderr",
          "text": [
            "\n",
            "   Adding edges:   0%|          | 0/2000 [00:00<?, ?it/s]\u001b[A\n",
            "   Adding edges:  13%|█▎        | 251/2000 [00:00<00:00, 2507.35it/s]\u001b[A\n",
            "   Adding edges:  25%|██▌       | 502/2000 [00:00<00:00, 2404.47it/s]\u001b[A\n",
            "   Adding edges:  42%|████▏     | 838/2000 [00:00<00:00, 2828.01it/s]\u001b[A\n",
            "   Adding edges: 100%|██████████| 2000/2000 [00:00<00:00, 4321.13it/s]\n"
          ]
        },
        {
          "output_type": "stream",
          "name": "stdout",
          "text": [
            "   ✅ Network built: 2000 nodes, 5458 edges\n"
          ]
        },
        {
          "output_type": "stream",
          "name": "stderr",
          "text": [
            "\r   Random networks:  42%|████▏     | 21/50 [29:29<42:24, 87.76s/it]"
          ]
        },
        {
          "output_type": "stream",
          "name": "stdout",
          "text": [
            "   Building network (radius=20.0)...\n"
          ]
        },
        {
          "output_type": "stream",
          "name": "stderr",
          "text": [
            "\n",
            "   Adding edges:   0%|          | 0/2000 [00:00<?, ?it/s]\u001b[A\n",
            "   Adding edges:  13%|█▎        | 259/2000 [00:00<00:00, 2583.81it/s]\u001b[A\n",
            "   Adding edges:  27%|██▋       | 534/2000 [00:00<00:00, 2681.24it/s]\u001b[A\n",
            "   Adding edges:  45%|████▍     | 892/2000 [00:00<00:00, 3090.13it/s]\u001b[A\n",
            "   Adding edges: 100%|██████████| 2000/2000 [00:00<00:00, 4400.15it/s]\n"
          ]
        },
        {
          "output_type": "stream",
          "name": "stdout",
          "text": [
            "   ✅ Network built: 2000 nodes, 5349 edges\n"
          ]
        },
        {
          "output_type": "stream",
          "name": "stderr",
          "text": [
            "\r   Random networks:  44%|████▍     | 22/50 [30:55<40:40, 87.18s/it]"
          ]
        },
        {
          "output_type": "stream",
          "name": "stdout",
          "text": [
            "   Building network (radius=20.0)...\n"
          ]
        },
        {
          "output_type": "stream",
          "name": "stderr",
          "text": [
            "\n",
            "   Adding edges:   0%|          | 0/2000 [00:00<?, ?it/s]\u001b[A\n",
            "   Adding edges:  12%|█▏        | 240/2000 [00:00<00:00, 2396.89it/s]\u001b[A\n",
            "   Adding edges:  26%|██▌       | 516/2000 [00:00<00:00, 2606.01it/s]\u001b[A\n",
            "   Adding edges:  41%|████      | 811/2000 [00:00<00:00, 2762.19it/s]\u001b[A\n",
            "   Adding edges: 100%|██████████| 2000/2000 [00:00<00:00, 4259.04it/s]\n"
          ]
        },
        {
          "output_type": "stream",
          "name": "stdout",
          "text": [
            "   ✅ Network built: 2000 nodes, 5344 edges\n"
          ]
        },
        {
          "output_type": "stream",
          "name": "stderr",
          "text": [
            "\r   Random networks:  46%|████▌     | 23/50 [32:21<39:05, 86.87s/it]"
          ]
        },
        {
          "output_type": "stream",
          "name": "stdout",
          "text": [
            "   Building network (radius=20.0)...\n"
          ]
        },
        {
          "output_type": "stream",
          "name": "stderr",
          "text": [
            "\n",
            "   Adding edges:   0%|          | 0/2000 [00:00<?, ?it/s]\u001b[A\n",
            "   Adding edges:  11%|█         | 212/2000 [00:00<00:00, 2119.39it/s]\u001b[A\n",
            "   Adding edges:  24%|██▍       | 479/2000 [00:00<00:00, 2442.18it/s]\u001b[A\n",
            "   Adding edges:  40%|████      | 806/2000 [00:00<00:00, 2819.19it/s]\u001b[A\n",
            "   Adding edges: 100%|██████████| 2000/2000 [00:00<00:00, 4360.39it/s]\n"
          ]
        },
        {
          "output_type": "stream",
          "name": "stdout",
          "text": [
            "   ✅ Network built: 2000 nodes, 5390 edges\n"
          ]
        },
        {
          "output_type": "stream",
          "name": "stderr",
          "text": [
            "\r   Random networks:  48%|████▊     | 24/50 [33:48<37:34, 86.73s/it]"
          ]
        },
        {
          "output_type": "stream",
          "name": "stdout",
          "text": [
            "   Building network (radius=20.0)...\n"
          ]
        },
        {
          "output_type": "stream",
          "name": "stderr",
          "text": [
            "\n",
            "   Adding edges:   0%|          | 0/2000 [00:00<?, ?it/s]\u001b[A\n",
            "   Adding edges:  13%|█▎        | 251/2000 [00:00<00:00, 2501.45it/s]\u001b[A\n",
            "   Adding edges:  27%|██▋       | 540/2000 [00:00<00:00, 2729.03it/s]\u001b[A\n",
            "   Adding edges:  45%|████▌     | 905/2000 [00:00<00:00, 3147.71it/s]\u001b[A\n",
            "   Adding edges: 100%|██████████| 2000/2000 [00:00<00:00, 4547.25it/s]\n"
          ]
        },
        {
          "output_type": "stream",
          "name": "stdout",
          "text": [
            "   ✅ Network built: 2000 nodes, 5380 edges\n"
          ]
        },
        {
          "output_type": "stream",
          "name": "stderr",
          "text": [
            "\r   Random networks:  50%|█████     | 25/50 [35:15<36:12, 86.89s/it]"
          ]
        },
        {
          "output_type": "stream",
          "name": "stdout",
          "text": [
            "   Building network (radius=20.0)...\n"
          ]
        },
        {
          "output_type": "stream",
          "name": "stderr",
          "text": [
            "\n",
            "   Adding edges:   0%|          | 0/2000 [00:00<?, ?it/s]\u001b[A\n",
            "   Adding edges:  10%|█         | 204/2000 [00:00<00:00, 2034.64it/s]\u001b[A\n",
            "   Adding edges:  23%|██▎       | 465/2000 [00:00<00:00, 2369.47it/s]\u001b[A\n",
            "   Adding edges:  40%|████      | 807/2000 [00:00<00:00, 2845.49it/s]\u001b[A\n",
            "   Adding edges: 100%|██████████| 2000/2000 [00:00<00:00, 4291.18it/s]\n"
          ]
        },
        {
          "output_type": "stream",
          "name": "stdout",
          "text": [
            "   ✅ Network built: 2000 nodes, 5532 edges\n"
          ]
        },
        {
          "output_type": "stream",
          "name": "stderr",
          "text": [
            "\r   Random networks:  52%|█████▏    | 26/50 [36:43<34:55, 87.31s/it]"
          ]
        },
        {
          "output_type": "stream",
          "name": "stdout",
          "text": [
            "   Building network (radius=20.0)...\n"
          ]
        },
        {
          "output_type": "stream",
          "name": "stderr",
          "text": [
            "\n",
            "   Adding edges:   0%|          | 0/2000 [00:00<?, ?it/s]\u001b[A\n",
            "   Adding edges:  13%|█▎        | 253/2000 [00:00<00:00, 2522.39it/s]\u001b[A\n",
            "   Adding edges:  27%|██▋       | 534/2000 [00:00<00:00, 2691.11it/s]\u001b[A\n",
            "   Adding edges:  43%|████▎     | 869/2000 [00:00<00:00, 2989.56it/s]\u001b[A\n",
            "   Adding edges: 100%|██████████| 2000/2000 [00:00<00:00, 4386.37it/s]\n"
          ]
        },
        {
          "output_type": "stream",
          "name": "stdout",
          "text": [
            "   ✅ Network built: 2000 nodes, 5452 edges\n"
          ]
        },
        {
          "output_type": "stream",
          "name": "stderr",
          "text": [
            "\r   Random networks:  54%|█████▍    | 27/50 [38:10<33:23, 87.11s/it]"
          ]
        },
        {
          "output_type": "stream",
          "name": "stdout",
          "text": [
            "   Building network (radius=20.0)...\n"
          ]
        },
        {
          "output_type": "stream",
          "name": "stderr",
          "text": [
            "\n",
            "   Adding edges:   0%|          | 0/2000 [00:00<?, ?it/s]\u001b[A\n",
            "   Adding edges:  12%|█▏        | 249/2000 [00:00<00:00, 2489.14it/s]\u001b[A\n",
            "   Adding edges:  27%|██▋       | 532/2000 [00:00<00:00, 2687.87it/s]\u001b[A\n",
            "   Adding edges:  43%|████▎     | 866/2000 [00:00<00:00, 2983.36it/s]\u001b[A\n",
            "   Adding edges: 100%|██████████| 2000/2000 [00:00<00:00, 4430.69it/s]\n"
          ]
        },
        {
          "output_type": "stream",
          "name": "stdout",
          "text": [
            "   ✅ Network built: 2000 nodes, 5414 edges\n"
          ]
        },
        {
          "output_type": "stream",
          "name": "stderr",
          "text": [
            "\r   Random networks:  56%|█████▌    | 28/50 [39:34<31:33, 86.06s/it]"
          ]
        },
        {
          "output_type": "stream",
          "name": "stdout",
          "text": [
            "   Building network (radius=20.0)...\n"
          ]
        },
        {
          "output_type": "stream",
          "name": "stderr",
          "text": [
            "\n",
            "   Adding edges:   0%|          | 0/2000 [00:00<?, ?it/s]\u001b[A\n",
            "   Adding edges:  12%|█▏        | 243/2000 [00:00<00:00, 2426.74it/s]\u001b[A\n",
            "   Adding edges:  26%|██▌       | 523/2000 [00:00<00:00, 2645.47it/s]\u001b[A\n",
            "   Adding edges:  39%|███▉      | 788/2000 [00:00<00:00, 2591.35it/s]\u001b[A\n",
            "   Adding edges:  52%|█████▏    | 1048/2000 [00:00<00:00, 2465.14it/s]\u001b[A\n",
            "   Adding edges: 100%|██████████| 2000/2000 [00:00<00:00, 3232.39it/s]\n"
          ]
        },
        {
          "output_type": "stream",
          "name": "stdout",
          "text": [
            "   ✅ Network built: 2000 nodes, 5325 edges\n"
          ]
        },
        {
          "output_type": "stream",
          "name": "stderr",
          "text": [
            "\r   Random networks:  58%|█████▊    | 29/50 [41:00<30:08, 86.11s/it]"
          ]
        },
        {
          "output_type": "stream",
          "name": "stdout",
          "text": [
            "   Building network (radius=20.0)...\n"
          ]
        },
        {
          "output_type": "stream",
          "name": "stderr",
          "text": [
            "\n",
            "   Adding edges:   0%|          | 0/2000 [00:00<?, ?it/s]\u001b[A\n",
            "   Adding edges:  12%|█▏        | 249/2000 [00:00<00:00, 2485.13it/s]\u001b[A\n",
            "   Adding edges:  27%|██▋       | 535/2000 [00:00<00:00, 2702.31it/s]\u001b[A\n",
            "   Adding edges:  45%|████▌     | 901/2000 [00:00<00:00, 3136.14it/s]\u001b[A\n",
            "   Adding edges: 100%|██████████| 2000/2000 [00:00<00:00, 4490.42it/s]\n"
          ]
        },
        {
          "output_type": "stream",
          "name": "stdout",
          "text": [
            "   ✅ Network built: 2000 nodes, 5575 edges\n"
          ]
        },
        {
          "output_type": "stream",
          "name": "stderr",
          "text": [
            "\r   Random networks:  60%|██████    | 30/50 [42:29<28:57, 86.89s/it]"
          ]
        },
        {
          "output_type": "stream",
          "name": "stdout",
          "text": [
            "   Building network (radius=20.0)...\n"
          ]
        },
        {
          "output_type": "stream",
          "name": "stderr",
          "text": [
            "\n",
            "   Adding edges:   0%|          | 0/2000 [00:00<?, ?it/s]\u001b[A\n",
            "   Adding edges:  11%|█▏        | 229/2000 [00:00<00:00, 2287.15it/s]\u001b[A\n",
            "   Adding edges:  26%|██▌       | 513/2000 [00:00<00:00, 2610.86it/s]\u001b[A\n",
            "   Adding edges:  43%|████▎     | 861/2000 [00:00<00:00, 3006.44it/s]\u001b[A\n",
            "   Adding edges: 100%|██████████| 2000/2000 [00:00<00:00, 4427.68it/s]\n"
          ]
        },
        {
          "output_type": "stream",
          "name": "stdout",
          "text": [
            "   ✅ Network built: 2000 nodes, 5301 edges\n"
          ]
        },
        {
          "output_type": "stream",
          "name": "stderr",
          "text": [
            "\r   Random networks:  62%|██████▏   | 31/50 [43:56<27:33, 87.00s/it]"
          ]
        },
        {
          "output_type": "stream",
          "name": "stdout",
          "text": [
            "   Building network (radius=20.0)...\n"
          ]
        },
        {
          "output_type": "stream",
          "name": "stderr",
          "text": [
            "\n",
            "   Adding edges:   0%|          | 0/2000 [00:00<?, ?it/s]\u001b[A\n",
            "   Adding edges:  12%|█▎        | 250/2000 [00:00<00:00, 2498.56it/s]\u001b[A\n",
            "   Adding edges:  27%|██▋       | 539/2000 [00:00<00:00, 2725.84it/s]\u001b[A\n",
            "   Adding edges:  45%|████▍     | 893/2000 [00:00<00:00, 3096.88it/s]\u001b[A\n",
            "   Adding edges: 100%|██████████| 2000/2000 [00:00<00:00, 4469.95it/s]\n"
          ]
        },
        {
          "output_type": "stream",
          "name": "stdout",
          "text": [
            "   ✅ Network built: 2000 nodes, 5238 edges\n"
          ]
        },
        {
          "output_type": "stream",
          "name": "stderr",
          "text": [
            "\r   Random networks:  64%|██████▍   | 32/50 [45:21<25:55, 86.42s/it]"
          ]
        },
        {
          "output_type": "stream",
          "name": "stdout",
          "text": [
            "   Building network (radius=20.0)...\n"
          ]
        },
        {
          "output_type": "stream",
          "name": "stderr",
          "text": [
            "\n",
            "   Adding edges:   0%|          | 0/2000 [00:00<?, ?it/s]\u001b[A\n",
            "   Adding edges:  13%|█▎        | 251/2000 [00:00<00:00, 2509.18it/s]\u001b[A\n",
            "   Adding edges:  27%|██▋       | 542/2000 [00:00<00:00, 2740.51it/s]\u001b[A\n",
            "   Adding edges:  45%|████▍     | 897/2000 [00:00<00:00, 3109.68it/s]\u001b[A\n",
            "   Adding edges: 100%|██████████| 2000/2000 [00:00<00:00, 4327.67it/s]\n"
          ]
        },
        {
          "output_type": "stream",
          "name": "stdout",
          "text": [
            "   ✅ Network built: 2000 nodes, 5453 edges\n"
          ]
        },
        {
          "output_type": "stream",
          "name": "stderr",
          "text": [
            "\r   Random networks:  66%|██████▌   | 33/50 [46:49<24:38, 86.95s/it]"
          ]
        },
        {
          "output_type": "stream",
          "name": "stdout",
          "text": [
            "   Building network (radius=20.0)...\n"
          ]
        },
        {
          "output_type": "stream",
          "name": "stderr",
          "text": [
            "\n",
            "   Adding edges:   0%|          | 0/2000 [00:00<?, ?it/s]\u001b[A\n",
            "   Adding edges:  13%|█▎        | 258/2000 [00:00<00:00, 2578.22it/s]\u001b[A\n",
            "   Adding edges:  27%|██▋       | 546/2000 [00:00<00:00, 2754.30it/s]\u001b[A\n",
            "   Adding edges:  43%|████▎     | 863/2000 [00:00<00:00, 2942.36it/s]\u001b[A\n",
            "   Adding edges: 100%|██████████| 2000/2000 [00:00<00:00, 4444.24it/s]\n"
          ]
        },
        {
          "output_type": "stream",
          "name": "stdout",
          "text": [
            "   ✅ Network built: 2000 nodes, 5418 edges\n"
          ]
        },
        {
          "output_type": "stream",
          "name": "stderr",
          "text": [
            "\r   Random networks:  68%|██████▊   | 34/50 [48:16<23:09, 86.84s/it]"
          ]
        },
        {
          "output_type": "stream",
          "name": "stdout",
          "text": [
            "   Building network (radius=20.0)...\n"
          ]
        },
        {
          "output_type": "stream",
          "name": "stderr",
          "text": [
            "\n",
            "   Adding edges:   0%|          | 0/2000 [00:00<?, ?it/s]\u001b[A\n",
            "   Adding edges:  12%|█▏        | 240/2000 [00:00<00:00, 2397.74it/s]\u001b[A\n",
            "   Adding edges:  26%|██▋       | 526/2000 [00:00<00:00, 2665.88it/s]\u001b[A\n",
            "   Adding edges:  44%|████▍     | 876/2000 [00:00<00:00, 3043.36it/s]\u001b[A\n",
            "   Adding edges: 100%|██████████| 2000/2000 [00:00<00:00, 4434.83it/s]\n"
          ]
        },
        {
          "output_type": "stream",
          "name": "stdout",
          "text": [
            "   ✅ Network built: 2000 nodes, 5427 edges\n"
          ]
        },
        {
          "output_type": "stream",
          "name": "stderr",
          "text": [
            "\r   Random networks:  70%|███████   | 35/50 [49:44<21:48, 87.22s/it]"
          ]
        },
        {
          "output_type": "stream",
          "name": "stdout",
          "text": [
            "   Building network (radius=20.0)...\n"
          ]
        },
        {
          "output_type": "stream",
          "name": "stderr",
          "text": [
            "\n",
            "   Adding edges:   0%|          | 0/2000 [00:00<?, ?it/s]\u001b[A\n",
            "   Adding edges:  13%|█▎        | 254/2000 [00:00<00:00, 2536.59it/s]\u001b[A\n",
            "   Adding edges:  27%|██▋       | 545/2000 [00:00<00:00, 2752.56it/s]\u001b[A\n",
            "   Adding edges:  41%|████      | 821/2000 [00:00<00:00, 2738.62it/s]\u001b[A\n",
            "   Adding edges: 100%|██████████| 2000/2000 [00:00<00:00, 4339.15it/s]\n"
          ]
        },
        {
          "output_type": "stream",
          "name": "stdout",
          "text": [
            "   ✅ Network built: 2000 nodes, 5345 edges\n"
          ]
        },
        {
          "output_type": "stream",
          "name": "stderr",
          "text": [
            "\r   Random networks:  72%|███████▏  | 36/50 [51:10<20:17, 86.94s/it]"
          ]
        },
        {
          "output_type": "stream",
          "name": "stdout",
          "text": [
            "   Building network (radius=20.0)...\n"
          ]
        },
        {
          "output_type": "stream",
          "name": "stderr",
          "text": [
            "\n",
            "   Adding edges:   0%|          | 0/2000 [00:00<?, ?it/s]\u001b[A\n",
            "   Adding edges:  13%|█▎        | 256/2000 [00:00<00:00, 2553.07it/s]\u001b[A\n",
            "   Adding edges:  27%|██▋       | 547/2000 [00:00<00:00, 2760.80it/s]\u001b[A\n",
            "   Adding edges:  42%|████▏     | 849/2000 [00:00<00:00, 2878.31it/s]\u001b[A\n",
            "   Adding edges: 100%|██████████| 2000/2000 [00:00<00:00, 4378.96it/s]\n"
          ]
        },
        {
          "output_type": "stream",
          "name": "stdout",
          "text": [
            "   ✅ Network built: 2000 nodes, 5587 edges\n"
          ]
        },
        {
          "output_type": "stream",
          "name": "stderr",
          "text": [
            "\r   Random networks:  74%|███████▍  | 37/50 [52:38<18:55, 87.33s/it]"
          ]
        },
        {
          "output_type": "stream",
          "name": "stdout",
          "text": [
            "   Building network (radius=20.0)...\n"
          ]
        },
        {
          "output_type": "stream",
          "name": "stderr",
          "text": [
            "\n",
            "   Adding edges:   0%|          | 0/2000 [00:00<?, ?it/s]\u001b[A\n",
            "   Adding edges:  11%|█         | 215/2000 [00:00<00:00, 2148.07it/s]\u001b[A\n",
            "   Adding edges:  24%|██▍       | 482/2000 [00:00<00:00, 2454.79it/s]\u001b[A\n",
            "   Adding edges:  40%|███▉      | 792/2000 [00:00<00:00, 2749.20it/s]\u001b[A\n",
            "   Adding edges: 100%|██████████| 2000/2000 [00:00<00:00, 4292.34it/s]\n"
          ]
        },
        {
          "output_type": "stream",
          "name": "stdout",
          "text": [
            "   ✅ Network built: 2000 nodes, 5381 edges\n"
          ]
        },
        {
          "output_type": "stream",
          "name": "stderr",
          "text": [
            "\r   Random networks:  76%|███████▌  | 38/50 [54:06<17:29, 87.43s/it]"
          ]
        },
        {
          "output_type": "stream",
          "name": "stdout",
          "text": [
            "   Building network (radius=20.0)...\n"
          ]
        },
        {
          "output_type": "stream",
          "name": "stderr",
          "text": [
            "\n",
            "   Adding edges:   0%|          | 0/2000 [00:00<?, ?it/s]\u001b[A\n",
            "   Adding edges:  10%|█         | 204/2000 [00:00<00:00, 2033.89it/s]\u001b[A\n",
            "   Adding edges:  24%|██▍       | 481/2000 [00:00<00:00, 2463.29it/s]\u001b[A\n",
            "   Adding edges:  41%|████      | 821/2000 [00:00<00:00, 2890.13it/s]\u001b[A\n",
            "   Adding edges: 100%|██████████| 2000/2000 [00:00<00:00, 4342.04it/s]\n"
          ]
        },
        {
          "output_type": "stream",
          "name": "stdout",
          "text": [
            "   ✅ Network built: 2000 nodes, 5467 edges\n"
          ]
        },
        {
          "output_type": "stream",
          "name": "stderr",
          "text": [
            "\r   Random networks:  78%|███████▊  | 39/50 [55:33<16:02, 87.46s/it]"
          ]
        },
        {
          "output_type": "stream",
          "name": "stdout",
          "text": [
            "   Building network (radius=20.0)...\n"
          ]
        },
        {
          "output_type": "stream",
          "name": "stderr",
          "text": [
            "\n",
            "   Adding edges:   0%|          | 0/2000 [00:00<?, ?it/s]\u001b[A\n",
            "   Adding edges:  11%|█         | 212/2000 [00:00<00:00, 2105.74it/s]\u001b[A\n",
            "   Adding edges:  22%|██▏       | 446/2000 [00:00<00:00, 2239.33it/s]\u001b[A\n",
            "   Adding edges:  39%|███▉      | 776/2000 [00:00<00:00, 2722.00it/s]\u001b[A\n",
            "   Adding edges: 100%|██████████| 2000/2000 [00:00<00:00, 4234.53it/s]\n"
          ]
        },
        {
          "output_type": "stream",
          "name": "stdout",
          "text": [
            "   ✅ Network built: 2000 nodes, 5365 edges\n"
          ]
        },
        {
          "output_type": "stream",
          "name": "stderr",
          "text": [
            "\r   Random networks:  80%|████████  | 40/50 [57:00<14:30, 87.05s/it]"
          ]
        },
        {
          "output_type": "stream",
          "name": "stdout",
          "text": [
            "   Building network (radius=20.0)...\n"
          ]
        },
        {
          "output_type": "stream",
          "name": "stderr",
          "text": [
            "\n",
            "   Adding edges:   0%|          | 0/2000 [00:00<?, ?it/s]\u001b[A\n",
            "   Adding edges:  12%|█▏        | 248/2000 [00:00<00:00, 2472.33it/s]\u001b[A\n",
            "   Adding edges:  27%|██▋       | 531/2000 [00:00<00:00, 2681.04it/s]\u001b[A\n",
            "   Adding edges:  44%|████▍     | 882/2000 [00:00<00:00, 3059.05it/s]\u001b[A\n",
            "   Adding edges: 100%|██████████| 2000/2000 [00:00<00:00, 4488.13it/s]\n"
          ]
        },
        {
          "output_type": "stream",
          "name": "stdout",
          "text": [
            "   ✅ Network built: 2000 nodes, 5268 edges\n"
          ]
        },
        {
          "output_type": "stream",
          "name": "stderr",
          "text": [
            "\r   Random networks:  82%|████████▏ | 41/50 [58:23<12:54, 86.11s/it]"
          ]
        },
        {
          "output_type": "stream",
          "name": "stdout",
          "text": [
            "   Building network (radius=20.0)...\n"
          ]
        },
        {
          "output_type": "stream",
          "name": "stderr",
          "text": [
            "\n",
            "   Adding edges:   0%|          | 0/2000 [00:00<?, ?it/s]\u001b[A\n",
            "   Adding edges:   6%|▌         | 111/2000 [00:00<00:01, 1094.29it/s]\u001b[A\n",
            "   Adding edges:  11%|█▏        | 225/2000 [00:00<00:01, 1120.20it/s]\u001b[A\n",
            "   Adding edges:  18%|█▊        | 357/2000 [00:00<00:01, 1209.43it/s]\u001b[A\n",
            "   Adding edges:  26%|██▌       | 512/2000 [00:00<00:01, 1342.79it/s]\u001b[A\n",
            "   Adding edges:  34%|███▍      | 684/2000 [00:00<00:00, 1476.09it/s]\u001b[A\n",
            "   Adding edges:  44%|████▍     | 884/2000 [00:00<00:00, 1652.36it/s]\u001b[A\n",
            "   Adding edges:  57%|█████▋    | 1138/2000 [00:00<00:00, 1940.23it/s]\u001b[A\n",
            "   Adding edges: 100%|██████████| 2000/2000 [00:00<00:00, 2330.65it/s]\n"
          ]
        },
        {
          "output_type": "stream",
          "name": "stdout",
          "text": [
            "   ✅ Network built: 2000 nodes, 5446 edges\n"
          ]
        },
        {
          "output_type": "stream",
          "name": "stderr",
          "text": [
            "\r   Random networks:  84%|████████▍ | 42/50 [59:51<11:31, 86.45s/it]"
          ]
        },
        {
          "output_type": "stream",
          "name": "stdout",
          "text": [
            "   Building network (radius=20.0)...\n"
          ]
        },
        {
          "output_type": "stream",
          "name": "stderr",
          "text": [
            "\n",
            "   Adding edges:   0%|          | 0/2000 [00:00<?, ?it/s]\u001b[A\n",
            "   Adding edges:   7%|▋         | 133/2000 [00:00<00:01, 1327.82it/s]\u001b[A\n",
            "   Adding edges:  14%|█▎        | 273/2000 [00:00<00:01, 1369.22it/s]\u001b[A\n",
            "   Adding edges:  20%|██        | 410/2000 [00:00<00:01, 1360.53it/s]\u001b[A\n",
            "   Adding edges:  29%|██▊       | 572/2000 [00:00<00:00, 1459.99it/s]\u001b[A\n",
            "   Adding edges:  38%|███▊      | 755/2000 [00:00<00:00, 1592.68it/s]\u001b[A\n",
            "   Adding edges:  48%|████▊     | 964/2000 [00:00<00:00, 1760.92it/s]\u001b[A\n",
            "   Adding edges:  62%|██████▏   | 1232/2000 [00:00<00:00, 2059.89it/s]\u001b[A\n",
            "   Adding edges: 100%|██████████| 2000/2000 [00:00<00:00, 2410.43it/s]\n"
          ]
        },
        {
          "output_type": "stream",
          "name": "stdout",
          "text": [
            "   ✅ Network built: 2000 nodes, 5517 edges\n"
          ]
        },
        {
          "output_type": "stream",
          "name": "stderr",
          "text": [
            "\r   Random networks:  86%|████████▌ | 43/50 [1:01:17<10:05, 86.47s/it]"
          ]
        },
        {
          "output_type": "stream",
          "name": "stdout",
          "text": [
            "   Building network (radius=20.0)...\n"
          ]
        },
        {
          "output_type": "stream",
          "name": "stderr",
          "text": [
            "\n",
            "   Adding edges:   0%|          | 0/2000 [00:00<?, ?it/s]\u001b[A\n",
            "   Adding edges:  12%|█▏        | 237/2000 [00:00<00:00, 2369.50it/s]\u001b[A\n",
            "   Adding edges:  26%|██▌       | 519/2000 [00:00<00:00, 2633.35it/s]\u001b[A\n",
            "   Adding edges:  43%|████▎     | 851/2000 [00:00<00:00, 2944.33it/s]\u001b[A\n",
            "   Adding edges: 100%|██████████| 2000/2000 [00:00<00:00, 4417.37it/s]\n"
          ]
        },
        {
          "output_type": "stream",
          "name": "stdout",
          "text": [
            "   ✅ Network built: 2000 nodes, 5379 edges\n"
          ]
        },
        {
          "output_type": "stream",
          "name": "stderr",
          "text": [
            "\r   Random networks:  88%|████████▊ | 44/50 [1:02:42<08:35, 85.96s/it]"
          ]
        },
        {
          "output_type": "stream",
          "name": "stdout",
          "text": [
            "   Building network (radius=20.0)...\n"
          ]
        },
        {
          "output_type": "stream",
          "name": "stderr",
          "text": [
            "\n",
            "   Adding edges:   0%|          | 0/2000 [00:00<?, ?it/s]\u001b[A\n",
            "   Adding edges:  12%|█▏        | 249/2000 [00:00<00:00, 2486.33it/s]\u001b[A\n",
            "   Adding edges:  26%|██▋       | 528/2000 [00:00<00:00, 2661.75it/s]\u001b[A\n",
            "   Adding edges:  43%|████▎     | 855/2000 [00:00<00:00, 2938.39it/s]\u001b[A\n",
            "   Adding edges: 100%|██████████| 2000/2000 [00:00<00:00, 4317.89it/s]\n"
          ]
        },
        {
          "output_type": "stream",
          "name": "stdout",
          "text": [
            "   ✅ Network built: 2000 nodes, 5255 edges\n"
          ]
        },
        {
          "output_type": "stream",
          "name": "stderr",
          "text": [
            "\r   Random networks:  90%|█████████ | 45/50 [1:04:07<07:07, 85.53s/it]"
          ]
        },
        {
          "output_type": "stream",
          "name": "stdout",
          "text": [
            "   Building network (radius=20.0)...\n"
          ]
        },
        {
          "output_type": "stream",
          "name": "stderr",
          "text": [
            "\n",
            "   Adding edges:   0%|          | 0/2000 [00:00<?, ?it/s]\u001b[A\n",
            "   Adding edges:  10%|█         | 210/2000 [00:00<00:00, 2093.68it/s]\u001b[A\n",
            "   Adding edges:  24%|██▍       | 486/2000 [00:00<00:00, 2483.92it/s]\u001b[A\n",
            "   Adding edges:  39%|███▉      | 785/2000 [00:00<00:00, 2714.26it/s]\u001b[A\n",
            "   Adding edges: 100%|██████████| 2000/2000 [00:00<00:00, 4084.25it/s]\n"
          ]
        },
        {
          "output_type": "stream",
          "name": "stdout",
          "text": [
            "   ✅ Network built: 2000 nodes, 5438 edges\n"
          ]
        },
        {
          "output_type": "stream",
          "name": "stderr",
          "text": [
            "\r   Random networks:  92%|█████████▏| 46/50 [1:05:31<05:40, 85.25s/it]"
          ]
        },
        {
          "output_type": "stream",
          "name": "stdout",
          "text": [
            "   Building network (radius=20.0)...\n"
          ]
        },
        {
          "output_type": "stream",
          "name": "stderr",
          "text": [
            "\n",
            "   Adding edges:   0%|          | 0/2000 [00:00<?, ?it/s]\u001b[A\n",
            "   Adding edges:   6%|▋         | 126/2000 [00:00<00:01, 1250.42it/s]\u001b[A\n",
            "   Adding edges:  13%|█▎        | 256/2000 [00:00<00:01, 1274.46it/s]\u001b[A\n",
            "   Adding edges:  20%|█▉        | 399/2000 [00:00<00:01, 1342.99it/s]\u001b[A\n",
            "   Adding edges:  27%|██▋       | 534/2000 [00:00<00:01, 1338.44it/s]\u001b[A\n",
            "   Adding edges:  35%|███▍      | 699/2000 [00:00<00:00, 1448.55it/s]\u001b[A\n",
            "   Adding edges:  45%|████▌     | 903/2000 [00:00<00:00, 1646.73it/s]\u001b[A\n",
            "   Adding edges:  58%|█████▊    | 1170/2000 [00:00<00:00, 1979.12it/s]\u001b[A\n",
            "   Adding edges: 100%|██████████| 2000/2000 [00:00<00:00, 2422.13it/s]\n"
          ]
        },
        {
          "output_type": "stream",
          "name": "stdout",
          "text": [
            "   ✅ Network built: 2000 nodes, 5672 edges\n"
          ]
        },
        {
          "output_type": "stream",
          "name": "stderr",
          "text": [
            "\r   Random networks:  94%|█████████▍| 47/50 [1:06:57<04:16, 85.49s/it]"
          ]
        },
        {
          "output_type": "stream",
          "name": "stdout",
          "text": [
            "   Building network (radius=20.0)...\n"
          ]
        },
        {
          "output_type": "stream",
          "name": "stderr",
          "text": [
            "\n",
            "   Adding edges:   0%|          | 0/2000 [00:00<?, ?it/s]\u001b[A\n",
            "   Adding edges:   6%|▌         | 122/2000 [00:00<00:01, 1218.03it/s]\u001b[A\n",
            "   Adding edges:  13%|█▎        | 256/2000 [00:00<00:01, 1288.57it/s]\u001b[A\n",
            "   Adding edges:  20%|██        | 408/2000 [00:00<00:01, 1390.48it/s]\u001b[A\n",
            "   Adding edges:  28%|██▊       | 569/2000 [00:00<00:00, 1476.81it/s]\u001b[A\n",
            "   Adding edges:  37%|███▋      | 743/2000 [00:00<00:00, 1568.83it/s]\u001b[A\n",
            "   Adding edges:  46%|████▌     | 920/2000 [00:00<00:00, 1636.61it/s]\u001b[A\n",
            "   Adding edges:  57%|█████▋    | 1134/2000 [00:00<00:00, 1799.94it/s]\u001b[A\n",
            "   Adding edges: 100%|██████████| 2000/2000 [00:00<00:00, 2293.50it/s]\n"
          ]
        },
        {
          "output_type": "stream",
          "name": "stdout",
          "text": [
            "   ✅ Network built: 2000 nodes, 5395 edges\n"
          ]
        },
        {
          "output_type": "stream",
          "name": "stderr",
          "text": [
            "\r   Random networks:  96%|█████████▌| 48/50 [1:08:24<02:51, 85.82s/it]"
          ]
        },
        {
          "output_type": "stream",
          "name": "stdout",
          "text": [
            "   Building network (radius=20.0)...\n"
          ]
        },
        {
          "output_type": "stream",
          "name": "stderr",
          "text": [
            "\n",
            "   Adding edges:   0%|          | 0/2000 [00:00<?, ?it/s]\u001b[A\n",
            "   Adding edges:  13%|█▎        | 254/2000 [00:00<00:00, 2538.79it/s]\u001b[A\n",
            "   Adding edges:  27%|██▋       | 541/2000 [00:00<00:00, 2733.16it/s]\u001b[A\n",
            "   Adding edges:  43%|████▎     | 861/2000 [00:00<00:00, 2944.34it/s]\u001b[A\n",
            "   Adding edges: 100%|██████████| 2000/2000 [00:00<00:00, 4335.47it/s]\n"
          ]
        },
        {
          "output_type": "stream",
          "name": "stdout",
          "text": [
            "   ✅ Network built: 2000 nodes, 5295 edges\n"
          ]
        },
        {
          "output_type": "stream",
          "name": "stderr",
          "text": [
            "\r   Random networks:  98%|█████████▊| 49/50 [1:09:49<01:25, 85.54s/it]"
          ]
        },
        {
          "output_type": "stream",
          "name": "stdout",
          "text": [
            "   Building network (radius=20.0)...\n"
          ]
        },
        {
          "output_type": "stream",
          "name": "stderr",
          "text": [
            "\n",
            "   Adding edges:   0%|          | 0/2000 [00:00<?, ?it/s]\u001b[A\n",
            "   Adding edges:  12%|█▎        | 250/2000 [00:00<00:00, 2493.15it/s]\u001b[A\n",
            "   Adding edges:  27%|██▋       | 536/2000 [00:00<00:00, 2704.08it/s]\u001b[A\n",
            "   Adding edges:  44%|████▍     | 882/2000 [00:00<00:00, 3047.07it/s]\u001b[A\n",
            "   Adding edges: 100%|██████████| 2000/2000 [00:00<00:00, 4314.90it/s]\n"
          ]
        },
        {
          "output_type": "stream",
          "name": "stdout",
          "text": [
            "   ✅ Network built: 2000 nodes, 5404 edges\n"
          ]
        },
        {
          "output_type": "stream",
          "name": "stderr",
          "text": [
            "   Random networks: 100%|██████████| 50/50 [1:11:14<00:00, 85.50s/it]"
          ]
        },
        {
          "output_type": "stream",
          "name": "stdout",
          "text": [
            "   Calculating statistics...\n",
            "\n",
            "✅ Analysis completed successfully!\n",
            "   Tested 6 different network metrics\n",
            "   Compared against 50 random networks\n",
            "   Network radius: 20.0 units\n",
            "   Sample size: 2000 galaxies\n"
          ]
        },
        {
          "output_type": "stream",
          "name": "stderr",
          "text": [
            "\n"
          ]
        }
      ],
      "source": [
        "# Cell 6: Run Optimized Analysis\n",
        "print(\"🔬 Running optimized cosmic network analysis...\")\n",
        "print(\"=\"*60)\n",
        "\n",
        "# Initialize analyzer with larger radius\n",
        "analyzer = CosmicNetworkAnalyzer(radius=20.0)\n",
        "\n",
        "# Run analysis (50 random tests for speed)\n",
        "results = analyzer.run_comprehensive_analysis(galaxy_positions, n_random_tests=50)\n",
        "\n",
        "print(\"\\n✅ Analysis completed successfully!\")\n",
        "print(f\"   Tested {len(results)} different network metrics\")\n",
        "print(f\"   Compared against 50 random networks\")\n",
        "print(f\"   Network radius: 20.0 units\")\n",
        "print(f\"   Sample size: 2000 galaxies\")"
      ]
    },
    {
      "cell_type": "code",
      "execution_count": 7,
      "metadata": {
        "colab": {
          "base_uri": "https://localhost:8080/",
          "height": 1000
        },
        "id": "Va0U_44qpNyb",
        "outputId": "e1a97a28-4406-4766-c965-fa7250e53329"
      },
      "outputs": [
        {
          "output_type": "stream",
          "name": "stdout",
          "text": [
            "📊 Generating comprehensive results and visualizations...\n",
            "============================================================\n"
          ]
        },
        {
          "output_type": "display_data",
          "data": {
            "text/plain": [
              "<Figure size 1800x1200 with 6 Axes>"
            ],
            "image/png": "[encoded data removed]"
          },
          "metadata": {}
        },
        {
          "output_type": "stream",
          "name": "stdout",
          "text": [
            "\n",
            "================================================================================\n",
            "📊 DESI COSMIC NETWORK ANALYSIS - OPTIMIZED REPORT\n",
            "================================================================================\n",
            "\n",
            "🔍 METRIC ANALYSIS:\n",
            "------------------------------------------------------------\n",
            "\n",
            "CLUSTERING:\n",
            "  Observed Value: 0.064025\n",
            "  Random Mean:    0.068713\n",
            "  Random Std:     0.009580\n",
            "  Z-Score:        -0.489\n",
            "  P-Value:        0.624645\n",
            "  Significance:   Not significant\n",
            "\n",
            "PATH_LENGTH:\n",
            "  Observed Value: 3.071466\n",
            "  Random Mean:    13.701001\n",
            "  Random Std:     0.308154\n",
            "  Z-Score:        -34.494\n",
            "  P-Value:        0.000000\n",
            "  Significance:   *** EXTREMELY SIGNIFICANT ***\n",
            "\n",
            "DIAMETER:\n",
            "  Observed Value: 11.000000\n",
            "  Random Mean:    34.180000\n",
            "  Random Std:     1.669611\n",
            "  Z-Score:        -13.883\n",
            "  P-Value:        0.000000\n",
            "  Significance:   *** EXTREMELY SIGNIFICANT ***\n",
            "\n",
            "DENSITY:\n",
            "  Observed Value: 0.057571\n",
            "  Random Mean:    0.002699\n",
            "  Random Std:     0.000049\n",
            "  Z-Score:        1122.148\n",
            "  P-Value:        0.000000\n",
            "  Significance:   *** EXTREMELY SIGNIFICANT ***\n",
            "\n",
            "BETWEENNESS:\n",
            "  Observed Value: 0.000339\n",
            "  Random Mean:    0.006106\n",
            "  Random Std:     0.000185\n",
            "  Z-Score:        -31.165\n",
            "  P-Value:        0.000000\n",
            "  Significance:   *** EXTREMELY SIGNIFICANT ***\n",
            "\n",
            "FLOW_CAPACITY:\n",
            "  Observed Value: 115.085000\n",
            "  Random Mean:    5.395240\n",
            "  Random Std:     0.097750\n",
            "  Z-Score:        1122.148\n",
            "  P-Value:        0.000000\n",
            "  Significance:   *** EXTREMELY SIGNIFICANT ***\n",
            "\n",
            "================================================================================\n",
            "🎯 INTERPRETATION:\n",
            "================================================================================\n",
            "\n",
            "Significant metrics (|z| > 2): 5/6\n",
            "✅ RESULT: Your 11.8σ cosmic network result appears to be REAL!\n",
            "   Multiple metrics show high significance, indicating genuine cosmic structure.\n",
            "\n",
            "================================================================================\n",
            "\n",
            "💾 Results saved to 'desi_analysis_results_optimized.json'\n",
            "🖼️  Visualization saved to 'desi_cosmic_network_validation_optimized.png'\n",
            "\n",
            "✅ Analysis complete! Check the results above.\n"
          ]
        }
      ],
      "source": [
        "# Cell 7: Generate Results and Visualizations\n",
        "print(\"📊 Generating comprehensive results and visualizations...\")\n",
        "print(\"=\"*60)\n",
        "\n",
        "# Create visualization\n",
        "fig = create_comprehensive_visualization(results)\n",
        "\n",
        "# Print detailed report\n",
        "print_detailed_report(results)\n",
        "\n",
        "# Save results to file\n",
        "import json\n",
        "with open('desi_analysis_results_optimized.json', 'w') as f:\n",
        "    json.dump(results, f, indent=2, default=str)\n",
        "\n",
        "print(\"\\n💾 Results saved to 'desi_analysis_results_optimized.json'\")\n",
        "print(\"🖼️  Visualization saved to 'desi_cosmic_network_validation_optimized.png'\")\n",
        "print(\"\\n✅ Analysis complete! Check the results above.\")"
      ]
    }
  ],
  "metadata": {
    "kernelspec": {
      "display_name": "Python 3",
      "language": "python",
      "name": "python3"
    },
    "language_info": {
      "codemirror_mode": {
        "name": "ipython",
        "version": 3
      },
      "file_extension": ".py",
      "mimetype": "text/x-python",
      "name": "python",
      "nbconvert_exporter": "python",
      "pygments_lexer": "ipython3",
      "version": "3.8.5"
    },
    "colab": {
      "provenance": [],
      "include_colab_link": true
    }
  },
  "nbformat": 4,
  "nbformat_minor": 0
}